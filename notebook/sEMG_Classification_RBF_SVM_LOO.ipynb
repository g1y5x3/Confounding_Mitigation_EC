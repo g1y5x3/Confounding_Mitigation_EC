{
 "cells": [
  {
   "cell_type": "code",
   "execution_count": 1,
   "id": "e345df43",
   "metadata": {},
   "outputs": [],
   "source": [
    "import pygad\n",
    "import scipy.io as sio\n",
    "import numpy as np\n",
    "import matplotlib.pyplot as plt\n",
    "\n",
    "from sklearn.svm import LinearSVC, SVC\n",
    "from sklearn.metrics import accuracy_score\n",
    "from sklearn.model_selection import train_test_split\n",
    "\n",
    "from mlconfound.stats import partial_confound_test\n",
    "from mlconfound.plot import plot_null_dist, plot_graph"
   ]
  },
  {
   "cell_type": "code",
   "execution_count": 2,
   "id": "0825a7a6",
   "metadata": {},
   "outputs": [],
   "source": [
    "DATA_ALL = sio.loadmat(\"data/subjects_40_v6.mat\")"
   ]
  },
  {
   "cell_type": "code",
   "execution_count": 3,
   "id": "739a9d96",
   "metadata": {},
   "outputs": [],
   "source": [
    "FEAT_N           = DATA_ALL['FEAT_N']            # Normalized features\n",
    "LABEL            = DATA_ALL['LABEL']             # Labels\n",
    "VFI_1            = DATA_ALL['SUBJECT_VFI']\n",
    "SUBJECT_ID       = DATA_ALL['SUBJECT_ID']        # Sujbect ID\n",
    "SUBJECT_SKINFOLD = DATA_ALL['SUBJECT_SKINFOLD']"
   ]
  },
  {
   "cell_type": "code",
   "execution_count": 4,
   "id": "53602e6e",
   "metadata": {
    "scrolled": true
   },
   "outputs": [
    {
     "name": "stdout",
     "output_type": "stream",
     "text": [
      "\n",
      "===Exp No. 1===\n",
      "\n",
      "Test Subject R044:\n",
      "VFI-1: [0]\n",
      "Left-out Test samples:  165\n",
      "Included Training samples:  0\n",
      "# of Healthy Samples: 3037\n",
      "# of Fatigued Samples: 3270\n"
     ]
    },
    {
     "name": "stderr",
     "output_type": "stream",
     "text": [
      "/home/iris/yg5d6/.conda/envs/tsai/lib/python3.7/site-packages/sklearn/svm/_base.py:289: ConvergenceWarning: Solver terminated early (max_iter=1000).  Consider pre-processing your data with StandardScaler or MinMaxScaler.\n",
      "  ConvergenceWarning,\n"
     ]
    },
    {
     "name": "stdout",
     "output_type": "stream",
     "text": [
      "Training Acc:  0.9695207892882312\n",
      "Validation Acc:  0.9635499207606973\n",
      "Testing Acc:  0.20606060606060606\n",
      "\n",
      "===Exp No. 2===\n",
      "\n",
      "Test Subject R041:\n",
      "VFI-1: [2]\n",
      "Left-out Test samples:  164\n",
      "Included Training samples:  0\n",
      "# of Healthy Samples: 3038\n",
      "# of Fatigued Samples: 3270\n"
     ]
    },
    {
     "name": "stderr",
     "output_type": "stream",
     "text": [
      "/home/iris/yg5d6/.conda/envs/tsai/lib/python3.7/site-packages/sklearn/svm/_base.py:289: ConvergenceWarning: Solver terminated early (max_iter=1000).  Consider pre-processing your data with StandardScaler or MinMaxScaler.\n",
      "  ConvergenceWarning,\n"
     ]
    },
    {
     "name": "stdout",
     "output_type": "stream",
     "text": [
      "Training Acc:  0.9531442663378545\n",
      "Validation Acc:  0.9429477020602218\n",
      "Testing Acc:  0.9573170731707317\n",
      "\n",
      "===Exp No. 3===\n",
      "\n",
      "Test Subject R081:\n",
      "VFI-1: [0]\n",
      "Left-out Test samples:  165\n",
      "Included Training samples:  0\n",
      "# of Healthy Samples: 3037\n",
      "# of Fatigued Samples: 3270\n"
     ]
    },
    {
     "name": "stderr",
     "output_type": "stream",
     "text": [
      "/home/iris/yg5d6/.conda/envs/tsai/lib/python3.7/site-packages/sklearn/svm/_base.py:289: ConvergenceWarning: Solver terminated early (max_iter=1000).  Consider pre-processing your data with StandardScaler or MinMaxScaler.\n",
      "  ConvergenceWarning,\n"
     ]
    },
    {
     "name": "stdout",
     "output_type": "stream",
     "text": [
      "Training Acc:  0.9589499647639183\n",
      "Validation Acc:  0.9540412044374009\n",
      "Testing Acc:  0.7090909090909091\n",
      "\n",
      "===Exp No. 4===\n",
      "\n",
      "Test Subject R085:\n",
      "VFI-1: [1]\n",
      "Left-out Test samples:  162\n",
      "Included Training samples:  0\n",
      "# of Healthy Samples: 3040\n",
      "# of Fatigued Samples: 3270\n"
     ]
    },
    {
     "name": "stderr",
     "output_type": "stream",
     "text": [
      "/home/iris/yg5d6/.conda/envs/tsai/lib/python3.7/site-packages/sklearn/svm/_base.py:289: ConvergenceWarning: Solver terminated early (max_iter=1000).  Consider pre-processing your data with StandardScaler or MinMaxScaler.\n",
      "  ConvergenceWarning,\n"
     ]
    },
    {
     "name": "stdout",
     "output_type": "stream",
     "text": [
      "Training Acc:  0.9535129424194401\n",
      "Validation Acc:  0.9492868462757528\n",
      "Testing Acc:  0.5185185185185185\n",
      "\n",
      "===Exp No. 5===\n",
      "\n",
      "Test Subject R008:\n",
      "VFI-1: [3]\n",
      "Left-out Test samples:  162\n",
      "Included Training samples:  0\n",
      "# of Healthy Samples: 3040\n",
      "# of Fatigued Samples: 3270\n"
     ]
    },
    {
     "name": "stderr",
     "output_type": "stream",
     "text": [
      "/home/iris/yg5d6/.conda/envs/tsai/lib/python3.7/site-packages/sklearn/svm/_base.py:289: ConvergenceWarning: Solver terminated early (max_iter=1000).  Consider pre-processing your data with StandardScaler or MinMaxScaler.\n",
      "  ConvergenceWarning,\n"
     ]
    },
    {
     "name": "stdout",
     "output_type": "stream",
     "text": [
      "Training Acc:  0.9505194576509949\n",
      "Validation Acc:  0.9445324881141046\n",
      "Testing Acc:  0.8765432098765432\n",
      "\n",
      "===Exp No. 6===\n",
      "\n",
      "Test Subject R024:\n",
      "VFI-1: [4]\n",
      "Left-out Test samples:  165\n",
      "Included Training samples:  0\n",
      "# of Healthy Samples: 3037\n",
      "# of Fatigued Samples: 3270\n"
     ]
    },
    {
     "name": "stderr",
     "output_type": "stream",
     "text": [
      "/home/iris/yg5d6/.conda/envs/tsai/lib/python3.7/site-packages/sklearn/svm/_base.py:289: ConvergenceWarning: Solver terminated early (max_iter=1000).  Consider pre-processing your data with StandardScaler or MinMaxScaler.\n",
      "  ConvergenceWarning,\n"
     ]
    },
    {
     "name": "stdout",
     "output_type": "stream",
     "text": [
      "Training Acc:  0.9564834390415786\n",
      "Validation Acc:  0.9461172741679873\n",
      "Testing Acc:  0.9939393939393939\n",
      "\n",
      "===Exp No. 7===\n",
      "\n",
      "Test Subject R034:\n",
      "VFI-1: [0]\n",
      "Left-out Test samples:  163\n",
      "Included Training samples:  0\n",
      "# of Healthy Samples: 3039\n",
      "# of Fatigued Samples: 3270\n"
     ]
    },
    {
     "name": "stderr",
     "output_type": "stream",
     "text": [
      "/home/iris/yg5d6/.conda/envs/tsai/lib/python3.7/site-packages/sklearn/svm/_base.py:289: ConvergenceWarning: Solver terminated early (max_iter=1000).  Consider pre-processing your data with StandardScaler or MinMaxScaler.\n",
      "  ConvergenceWarning,\n"
     ]
    },
    {
     "name": "stdout",
     "output_type": "stream",
     "text": [
      "Training Acc:  0.9533286368439592\n",
      "Validation Acc:  0.9508716323296355\n",
      "Testing Acc:  0.27607361963190186\n",
      "\n",
      "===Exp No. 8===\n",
      "\n",
      "Test Subject R029:\n",
      "VFI-1: [1]\n",
      "Left-out Test samples:  150\n",
      "Included Training samples:  0\n",
      "# of Healthy Samples: 3052\n",
      "# of Fatigued Samples: 3270\n"
     ]
    },
    {
     "name": "stderr",
     "output_type": "stream",
     "text": [
      "/home/iris/yg5d6/.conda/envs/tsai/lib/python3.7/site-packages/sklearn/svm/_base.py:289: ConvergenceWarning: Solver terminated early (max_iter=1000).  Consider pre-processing your data with StandardScaler or MinMaxScaler.\n",
      "  ConvergenceWarning,\n"
     ]
    },
    {
     "name": "stdout",
     "output_type": "stream",
     "text": [
      "Training Acc:  0.9592195464932326\n",
      "Validation Acc:  0.9605055292259084\n",
      "Testing Acc:  0.94\n",
      "\n",
      "===Exp No. 9===\n",
      "\n",
      "Test Subject R052:\n",
      "VFI-1: [1]\n",
      "Left-out Test samples:  164\n",
      "Included Training samples:  0\n",
      "# of Healthy Samples: 3038\n",
      "# of Fatigued Samples: 3270\n"
     ]
    },
    {
     "name": "stderr",
     "output_type": "stream",
     "text": [
      "/home/iris/yg5d6/.conda/envs/tsai/lib/python3.7/site-packages/sklearn/svm/_base.py:289: ConvergenceWarning: Solver terminated early (max_iter=1000).  Consider pre-processing your data with StandardScaler or MinMaxScaler.\n",
      "  ConvergenceWarning,\n"
     ]
    },
    {
     "name": "stdout",
     "output_type": "stream",
     "text": [
      "Training Acc:  0.9621278844460102\n",
      "Validation Acc:  0.9540412044374009\n",
      "Testing Acc:  0.5060975609756098\n",
      "\n",
      "===Exp No. 10===\n",
      "\n",
      "Test Subject R039:\n",
      "VFI-1: [4]\n",
      "Left-out Test samples:  163\n",
      "Included Training samples:  0\n",
      "# of Healthy Samples: 3039\n",
      "# of Fatigued Samples: 3270\n"
     ]
    },
    {
     "name": "stderr",
     "output_type": "stream",
     "text": [
      "/home/iris/yg5d6/.conda/envs/tsai/lib/python3.7/site-packages/sklearn/svm/_base.py:289: ConvergenceWarning: Solver terminated early (max_iter=1000).  Consider pre-processing your data with StandardScaler or MinMaxScaler.\n",
      "  ConvergenceWarning,\n"
     ]
    },
    {
     "name": "stdout",
     "output_type": "stream",
     "text": [
      "Training Acc:  0.9598450158506516\n",
      "Validation Acc:  0.9524564183835182\n",
      "Testing Acc:  0.4171779141104294\n",
      "\n",
      "===Exp No. 11===\n",
      "\n",
      "Test Subject R088:\n",
      "VFI-1: [4]\n",
      "Left-out Test samples:  164\n",
      "Included Training samples:  0\n",
      "# of Healthy Samples: 3038\n",
      "# of Fatigued Samples: 3270\n"
     ]
    },
    {
     "name": "stderr",
     "output_type": "stream",
     "text": [
      "/home/iris/yg5d6/.conda/envs/tsai/lib/python3.7/site-packages/sklearn/svm/_base.py:289: ConvergenceWarning: Solver terminated early (max_iter=1000).  Consider pre-processing your data with StandardScaler or MinMaxScaler.\n",
      "  ConvergenceWarning,\n"
     ]
    },
    {
     "name": "stdout",
     "output_type": "stream",
     "text": [
      "Training Acc:  0.9570195525805884\n",
      "Validation Acc:  0.9334389857369255\n",
      "Testing Acc:  1.0\n",
      "\n",
      "===Exp No. 12===\n",
      "\n",
      "Test Subject R092:\n",
      "VFI-1: [4]\n",
      "Left-out Test samples:  158\n",
      "Included Training samples:  0\n",
      "# of Healthy Samples: 3044\n",
      "# of Fatigued Samples: 3270\n"
     ]
    },
    {
     "name": "stderr",
     "output_type": "stream",
     "text": [
      "/home/iris/yg5d6/.conda/envs/tsai/lib/python3.7/site-packages/sklearn/svm/_base.py:289: ConvergenceWarning: Solver terminated early (max_iter=1000).  Consider pre-processing your data with StandardScaler or MinMaxScaler.\n",
      "  ConvergenceWarning,\n"
     ]
    },
    {
     "name": "stdout",
     "output_type": "stream",
     "text": [
      "Training Acc:  0.9577613516367476\n",
      "Validation Acc:  0.9319620253164557\n",
      "Testing Acc:  0.2721518987341772\n",
      "\n",
      "===Exp No. 13===\n",
      "\n",
      "Test Subject R016:\n",
      "VFI-1: [4]\n",
      "Left-out Test samples:  165\n",
      "Included Training samples:  0\n",
      "# of Healthy Samples: 3037\n",
      "# of Fatigued Samples: 3270\n"
     ]
    },
    {
     "name": "stderr",
     "output_type": "stream",
     "text": [
      "/home/iris/yg5d6/.conda/envs/tsai/lib/python3.7/site-packages/sklearn/svm/_base.py:289: ConvergenceWarning: Solver terminated early (max_iter=1000).  Consider pre-processing your data with StandardScaler or MinMaxScaler.\n",
      "  ConvergenceWarning,\n"
     ]
    },
    {
     "name": "stdout",
     "output_type": "stream",
     "text": [
      "Training Acc:  0.9556025369978859\n",
      "Validation Acc:  0.9477020602218701\n",
      "Testing Acc:  1.0\n",
      "\n",
      "===Exp No. 14===\n",
      "\n",
      "Test Subject R002:\n",
      "VFI-1: [0]\n",
      "Left-out Test samples:  160\n",
      "Included Training samples:  0\n",
      "# of Healthy Samples: 3042\n",
      "# of Fatigued Samples: 3270\n"
     ]
    },
    {
     "name": "stderr",
     "output_type": "stream",
     "text": [
      "/home/iris/yg5d6/.conda/envs/tsai/lib/python3.7/site-packages/sklearn/svm/_base.py:289: ConvergenceWarning: Solver terminated early (max_iter=1000).  Consider pre-processing your data with StandardScaler or MinMaxScaler.\n",
      "  ConvergenceWarning,\n"
     ]
    },
    {
     "name": "stdout",
     "output_type": "stream",
     "text": [
      "Training Acc:  0.9568661971830986\n",
      "Validation Acc:  0.935126582278481\n",
      "Testing Acc:  0.83125\n",
      "\n",
      "===Exp No. 15===\n",
      "\n",
      "Test Subject R084:\n",
      "VFI-1: [1]\n",
      "Left-out Test samples:  165\n",
      "Included Training samples:  0\n",
      "# of Healthy Samples: 3037\n",
      "# of Fatigued Samples: 3270\n"
     ]
    },
    {
     "name": "stderr",
     "output_type": "stream",
     "text": [
      "/home/iris/yg5d6/.conda/envs/tsai/lib/python3.7/site-packages/sklearn/svm/_base.py:289: ConvergenceWarning: Solver terminated early (max_iter=1000).  Consider pre-processing your data with StandardScaler or MinMaxScaler.\n",
      "  ConvergenceWarning,\n"
     ]
    },
    {
     "name": "stdout",
     "output_type": "stream",
     "text": [
      "Training Acc:  0.9591261451726568\n",
      "Validation Acc:  0.9381933438985737\n",
      "Testing Acc:  0.7212121212121212\n",
      "\n",
      "===Exp No. 16===\n",
      "\n",
      "Test Subject R040:\n",
      "VFI-1: [4]\n",
      "Left-out Test samples:  163\n",
      "Included Training samples:  0\n",
      "# of Healthy Samples: 3039\n",
      "# of Fatigued Samples: 3270\n"
     ]
    },
    {
     "name": "stderr",
     "output_type": "stream",
     "text": [
      "/home/iris/yg5d6/.conda/envs/tsai/lib/python3.7/site-packages/sklearn/svm/_base.py:289: ConvergenceWarning: Solver terminated early (max_iter=1000).  Consider pre-processing your data with StandardScaler or MinMaxScaler.\n",
      "  ConvergenceWarning,\n"
     ]
    },
    {
     "name": "stdout",
     "output_type": "stream",
     "text": [
      "Training Acc:  0.9528002817893625\n",
      "Validation Acc:  0.9381933438985737\n",
      "Testing Acc:  1.0\n",
      "\n",
      "===Exp No. 17===\n",
      "\n",
      "Test Subject R037:\n",
      "VFI-1: [0]\n",
      "Left-out Test samples:  165\n",
      "Included Training samples:  0\n",
      "# of Healthy Samples: 3037\n",
      "# of Fatigued Samples: 3270\n"
     ]
    },
    {
     "name": "stderr",
     "output_type": "stream",
     "text": [
      "/home/iris/yg5d6/.conda/envs/tsai/lib/python3.7/site-packages/sklearn/svm/_base.py:289: ConvergenceWarning: Solver terminated early (max_iter=1000).  Consider pre-processing your data with StandardScaler or MinMaxScaler.\n",
      "  ConvergenceWarning,\n"
     ]
    },
    {
     "name": "stdout",
     "output_type": "stream",
     "text": [
      "Training Acc:  0.9492600422832981\n",
      "Validation Acc:  0.93026941362916\n",
      "Testing Acc:  1.0\n",
      "\n",
      "===Exp No. 18===\n",
      "\n",
      "Test Subject R090:\n",
      "VFI-1: [3]\n",
      "Left-out Test samples:  165\n",
      "Included Training samples:  0\n",
      "# of Healthy Samples: 3037\n",
      "# of Fatigued Samples: 3270\n"
     ]
    },
    {
     "name": "stderr",
     "output_type": "stream",
     "text": [
      "/home/iris/yg5d6/.conda/envs/tsai/lib/python3.7/site-packages/sklearn/svm/_base.py:289: ConvergenceWarning: Solver terminated early (max_iter=1000).  Consider pre-processing your data with StandardScaler or MinMaxScaler.\n",
      "  ConvergenceWarning,\n"
     ]
    },
    {
     "name": "stdout",
     "output_type": "stream",
     "text": [
      "Training Acc:  0.9538407329105003\n",
      "Validation Acc:  0.9445324881141046\n",
      "Testing Acc:  0.9757575757575757\n",
      "\n",
      "===Exp No. 19===\n",
      "\n",
      "Test Subject R061:\n",
      "VFI-1: [2]\n",
      "Left-out Test samples:  165\n",
      "Included Training samples:  0\n",
      "# of Healthy Samples: 3037\n",
      "# of Fatigued Samples: 3270\n"
     ]
    },
    {
     "name": "stderr",
     "output_type": "stream",
     "text": [
      "/home/iris/yg5d6/.conda/envs/tsai/lib/python3.7/site-packages/sklearn/svm/_base.py:289: ConvergenceWarning: Solver terminated early (max_iter=1000).  Consider pre-processing your data with StandardScaler or MinMaxScaler.\n",
      "  ConvergenceWarning,\n"
     ]
    },
    {
     "name": "stdout",
     "output_type": "stream",
     "text": [
      "Training Acc:  0.9575405214940098\n",
      "Validation Acc:  0.9477020602218701\n",
      "Testing Acc:  0.896969696969697\n",
      "\n",
      "===Exp No. 20===\n",
      "\n",
      "Test Subject R010:\n",
      "VFI-1: [4]\n",
      "Left-out Test samples:  109\n",
      "Included Training samples:  0\n",
      "# of Healthy Samples: 3093\n",
      "# of Fatigued Samples: 3270\n"
     ]
    },
    {
     "name": "stderr",
     "output_type": "stream",
     "text": [
      "/home/iris/yg5d6/.conda/envs/tsai/lib/python3.7/site-packages/sklearn/svm/_base.py:289: ConvergenceWarning: Solver terminated early (max_iter=1000).  Consider pre-processing your data with StandardScaler or MinMaxScaler.\n",
      "  ConvergenceWarning,\n"
     ]
    },
    {
     "name": "stdout",
     "output_type": "stream",
     "text": [
      "Training Acc:  0.9537198742577716\n",
      "Validation Acc:  0.9340659340659341\n",
      "Testing Acc:  1.0\n",
      "\n",
      "===Exp No. 21===\n",
      "\n",
      "Test Subject R057:\n",
      "VFI-1: [17]\n",
      "Left-out Test samples:  152\n",
      "Included Training samples:  0\n",
      "# of Healthy Samples: 3202\n",
      "# of Fatigued Samples: 3118\n"
     ]
    },
    {
     "name": "stderr",
     "output_type": "stream",
     "text": [
      "/home/iris/yg5d6/.conda/envs/tsai/lib/python3.7/site-packages/sklearn/svm/_base.py:289: ConvergenceWarning: Solver terminated early (max_iter=1000).  Consider pre-processing your data with StandardScaler or MinMaxScaler.\n",
      "  ConvergenceWarning,\n"
     ]
    },
    {
     "name": "stdout",
     "output_type": "stream",
     "text": [
      "Training Acc:  0.9511251758087201\n",
      "Validation Acc:  0.9319620253164557\n",
      "Testing Acc:  0.881578947368421\n",
      "\n",
      "===Exp No. 22===\n",
      "\n",
      "Test Subject R058:\n",
      "VFI-1: [11]\n",
      "Left-out Test samples:  165\n",
      "Included Training samples:  0\n",
      "# of Healthy Samples: 3202\n",
      "# of Fatigued Samples: 3105\n"
     ]
    },
    {
     "name": "stderr",
     "output_type": "stream",
     "text": [
      "/home/iris/yg5d6/.conda/envs/tsai/lib/python3.7/site-packages/sklearn/svm/_base.py:289: ConvergenceWarning: Solver terminated early (max_iter=1000).  Consider pre-processing your data with StandardScaler or MinMaxScaler.\n",
      "  ConvergenceWarning,\n"
     ]
    },
    {
     "name": "stdout",
     "output_type": "stream",
     "text": [
      "Training Acc:  0.9538407329105003\n",
      "Validation Acc:  0.9413629160063391\n",
      "Testing Acc:  0.6242424242424243\n",
      "\n",
      "===Exp No. 23===\n",
      "\n",
      "Test Subject R011:\n",
      "VFI-1: [23]\n",
      "Left-out Test samples:  165\n",
      "Included Training samples:  0\n",
      "# of Healthy Samples: 3202\n",
      "# of Fatigued Samples: 3105\n"
     ]
    },
    {
     "name": "stderr",
     "output_type": "stream",
     "text": [
      "/home/iris/yg5d6/.conda/envs/tsai/lib/python3.7/site-packages/sklearn/svm/_base.py:289: ConvergenceWarning: Solver terminated early (max_iter=1000).  Consider pre-processing your data with StandardScaler or MinMaxScaler.\n",
      "  ConvergenceWarning,\n"
     ]
    },
    {
     "name": "stdout",
     "output_type": "stream",
     "text": [
      "Training Acc:  0.9545454545454546\n",
      "Validation Acc:  0.9445324881141046\n",
      "Testing Acc:  0.21818181818181817\n",
      "\n",
      "===Exp No. 24===\n",
      "\n",
      "Test Subject R019:\n",
      "VFI-1: [22]\n",
      "Left-out Test samples:  160\n",
      "Included Training samples:  0\n",
      "# of Healthy Samples: 3202\n",
      "# of Fatigued Samples: 3110\n"
     ]
    },
    {
     "name": "stderr",
     "output_type": "stream",
     "text": [
      "/home/iris/yg5d6/.conda/envs/tsai/lib/python3.7/site-packages/sklearn/svm/_base.py:289: ConvergenceWarning: Solver terminated early (max_iter=1000).  Consider pre-processing your data with StandardScaler or MinMaxScaler.\n",
      "  ConvergenceWarning,\n"
     ]
    },
    {
     "name": "stdout",
     "output_type": "stream",
     "text": [
      "Training Acc:  0.956338028169014\n",
      "Validation Acc:  0.9224683544303798\n",
      "Testing Acc:  0.48125\n",
      "\n",
      "===Exp No. 25===\n",
      "\n",
      "Test Subject R021:\n",
      "VFI-1: [18]\n",
      "Left-out Test samples:  164\n",
      "Included Training samples:  0\n",
      "# of Healthy Samples: 3202\n",
      "# of Fatigued Samples: 3106\n"
     ]
    },
    {
     "name": "stderr",
     "output_type": "stream",
     "text": [
      "/home/iris/yg5d6/.conda/envs/tsai/lib/python3.7/site-packages/sklearn/svm/_base.py:289: ConvergenceWarning: Solver terminated early (max_iter=1000).  Consider pre-processing your data with StandardScaler or MinMaxScaler.\n",
      "  ConvergenceWarning,\n"
     ]
    },
    {
     "name": "stdout",
     "output_type": "stream",
     "text": [
      "Training Acc:  0.9575480007045974\n",
      "Validation Acc:  0.9445324881141046\n",
      "Testing Acc:  0.6524390243902439\n",
      "\n",
      "===Exp No. 26===\n",
      "\n",
      "Test Subject R030:\n",
      "VFI-1: [11]\n",
      "Left-out Test samples:  164\n",
      "Included Training samples:  0\n",
      "# of Healthy Samples: 3202\n",
      "# of Fatigued Samples: 3106\n"
     ]
    },
    {
     "name": "stderr",
     "output_type": "stream",
     "text": [
      "/home/iris/yg5d6/.conda/envs/tsai/lib/python3.7/site-packages/sklearn/svm/_base.py:289: ConvergenceWarning: Solver terminated early (max_iter=1000).  Consider pre-processing your data with StandardScaler or MinMaxScaler.\n",
      "  ConvergenceWarning,\n"
     ]
    },
    {
     "name": "stdout",
     "output_type": "stream",
     "text": [
      "Training Acc:  0.9645939756913863\n",
      "Validation Acc:  0.9540412044374009\n",
      "Testing Acc:  0.2073170731707317\n",
      "\n",
      "===Exp No. 27===\n",
      "\n",
      "Test Subject R032:\n",
      "VFI-1: [11]\n",
      "Left-out Test samples:  165\n",
      "Included Training samples:  0\n",
      "# of Healthy Samples: 3202\n",
      "# of Fatigued Samples: 3105\n"
     ]
    },
    {
     "name": "stderr",
     "output_type": "stream",
     "text": [
      "/home/iris/yg5d6/.conda/envs/tsai/lib/python3.7/site-packages/sklearn/svm/_base.py:289: ConvergenceWarning: Solver terminated early (max_iter=1000).  Consider pre-processing your data with StandardScaler or MinMaxScaler.\n",
      "  ConvergenceWarning,\n"
     ]
    },
    {
     "name": "stdout",
     "output_type": "stream",
     "text": [
      "Training Acc:  0.9545454545454546\n",
      "Validation Acc:  0.936608557844691\n",
      "Testing Acc:  1.0\n",
      "\n",
      "===Exp No. 28===\n",
      "\n",
      "Test Subject R043:\n",
      "VFI-1: [19]\n",
      "Left-out Test samples:  165\n",
      "Included Training samples:  0\n",
      "# of Healthy Samples: 3202\n",
      "# of Fatigued Samples: 3105\n"
     ]
    },
    {
     "name": "stderr",
     "output_type": "stream",
     "text": [
      "/home/iris/yg5d6/.conda/envs/tsai/lib/python3.7/site-packages/sklearn/svm/_base.py:289: ConvergenceWarning: Solver terminated early (max_iter=1000).  Consider pre-processing your data with StandardScaler or MinMaxScaler.\n",
      "  ConvergenceWarning,\n"
     ]
    },
    {
     "name": "stdout",
     "output_type": "stream",
     "text": [
      "Training Acc:  0.9511980267794221\n",
      "Validation Acc:  0.9350237717908082\n",
      "Testing Acc:  0.9515151515151515\n",
      "\n",
      "===Exp No. 29===\n",
      "\n",
      "Test Subject R045:\n",
      "VFI-1: [20]\n",
      "Left-out Test samples:  165\n",
      "Included Training samples:  0\n",
      "# of Healthy Samples: 3202\n",
      "# of Fatigued Samples: 3105\n"
     ]
    },
    {
     "name": "stderr",
     "output_type": "stream",
     "text": [
      "/home/iris/yg5d6/.conda/envs/tsai/lib/python3.7/site-packages/sklearn/svm/_base.py:289: ConvergenceWarning: Solver terminated early (max_iter=1000).  Consider pre-processing your data with StandardScaler or MinMaxScaler.\n",
      "  ConvergenceWarning,\n"
     ]
    },
    {
     "name": "stdout",
     "output_type": "stream",
     "text": [
      "Training Acc:  0.9552501761804087\n",
      "Validation Acc:  0.9318541996830428\n",
      "Testing Acc:  1.0\n",
      "\n",
      "===Exp No. 30===\n",
      "\n",
      "Test Subject R047:\n",
      "VFI-1: [24]\n",
      "Left-out Test samples:  165\n",
      "Included Training samples:  0\n",
      "# of Healthy Samples: 3202\n",
      "# of Fatigued Samples: 3105\n"
     ]
    },
    {
     "name": "stderr",
     "output_type": "stream",
     "text": [
      "/home/iris/yg5d6/.conda/envs/tsai/lib/python3.7/site-packages/sklearn/svm/_base.py:289: ConvergenceWarning: Solver terminated early (max_iter=1000).  Consider pre-processing your data with StandardScaler or MinMaxScaler.\n",
      "  ConvergenceWarning,\n"
     ]
    },
    {
     "name": "stdout",
     "output_type": "stream",
     "text": [
      "Training Acc:  0.9612403100775194\n",
      "Validation Acc:  0.9461172741679873\n",
      "Testing Acc:  0.6424242424242425\n",
      "\n",
      "===Exp No. 31===\n",
      "\n",
      "Test Subject R083:\n",
      "VFI-1: [15]\n",
      "Left-out Test samples:  165\n",
      "Included Training samples:  0\n",
      "# of Healthy Samples: 3202\n",
      "# of Fatigued Samples: 3105\n"
     ]
    },
    {
     "name": "stderr",
     "output_type": "stream",
     "text": [
      "/home/iris/yg5d6/.conda/envs/tsai/lib/python3.7/site-packages/sklearn/svm/_base.py:289: ConvergenceWarning: Solver terminated early (max_iter=1000).  Consider pre-processing your data with StandardScaler or MinMaxScaler.\n",
      "  ConvergenceWarning,\n"
     ]
    },
    {
     "name": "stdout",
     "output_type": "stream",
     "text": [
      "Training Acc:  0.9589499647639183\n",
      "Validation Acc:  0.9413629160063391\n",
      "Testing Acc:  0.23636363636363636\n",
      "\n",
      "===Exp No. 32===\n",
      "\n",
      "Test Subject R071:\n",
      "VFI-1: [13]\n",
      "Left-out Test samples:  165\n",
      "Included Training samples:  0\n",
      "# of Healthy Samples: 3202\n",
      "# of Fatigued Samples: 3105\n"
     ]
    },
    {
     "name": "stderr",
     "output_type": "stream",
     "text": [
      "/home/iris/yg5d6/.conda/envs/tsai/lib/python3.7/site-packages/sklearn/svm/_base.py:289: ConvergenceWarning: Solver terminated early (max_iter=1000).  Consider pre-processing your data with StandardScaler or MinMaxScaler.\n",
      "  ConvergenceWarning,\n"
     ]
    },
    {
     "name": "stdout",
     "output_type": "stream",
     "text": [
      "Training Acc:  0.954369274136716\n",
      "Validation Acc:  0.9381933438985737\n",
      "Testing Acc:  1.0\n",
      "\n",
      "===Exp No. 33===\n",
      "\n",
      "Test Subject R055:\n",
      "VFI-1: [14]\n",
      "Left-out Test samples:  163\n",
      "Included Training samples:  0\n",
      "# of Healthy Samples: 3202\n",
      "# of Fatigued Samples: 3107\n"
     ]
    },
    {
     "name": "stderr",
     "output_type": "stream",
     "text": [
      "/home/iris/yg5d6/.conda/envs/tsai/lib/python3.7/site-packages/sklearn/svm/_base.py:289: ConvergenceWarning: Solver terminated early (max_iter=1000).  Consider pre-processing your data with StandardScaler or MinMaxScaler.\n",
      "  ConvergenceWarning,\n"
     ]
    },
    {
     "name": "stdout",
     "output_type": "stream",
     "text": [
      "Training Acc:  0.9513913349771046\n",
      "Validation Acc:  0.9397781299524565\n",
      "Testing Acc:  1.0\n",
      "\n",
      "===Exp No. 34===\n",
      "\n",
      "Test Subject R050:\n",
      "VFI-1: [17]\n",
      "Left-out Test samples:  165\n",
      "Included Training samples:  0\n",
      "# of Healthy Samples: 3202\n",
      "# of Fatigued Samples: 3105\n"
     ]
    },
    {
     "name": "stderr",
     "output_type": "stream",
     "text": [
      "/home/iris/yg5d6/.conda/envs/tsai/lib/python3.7/site-packages/sklearn/svm/_base.py:289: ConvergenceWarning: Solver terminated early (max_iter=1000).  Consider pre-processing your data with StandardScaler or MinMaxScaler.\n",
      "  ConvergenceWarning,\n"
     ]
    },
    {
     "name": "stdout",
     "output_type": "stream",
     "text": [
      "Training Acc:  0.9529598308668076\n",
      "Validation Acc:  0.9318541996830428\n",
      "Testing Acc:  0.9030303030303031\n",
      "\n",
      "===Exp No. 35===\n",
      "\n",
      "Test Subject R063:\n",
      "VFI-1: [23]\n",
      "Left-out Test samples:  162\n",
      "Included Training samples:  0\n",
      "# of Healthy Samples: 3202\n",
      "# of Fatigued Samples: 3108\n"
     ]
    },
    {
     "name": "stderr",
     "output_type": "stream",
     "text": [
      "/home/iris/yg5d6/.conda/envs/tsai/lib/python3.7/site-packages/sklearn/svm/_base.py:289: ConvergenceWarning: Solver terminated early (max_iter=1000).  Consider pre-processing your data with StandardScaler or MinMaxScaler.\n",
      "  ConvergenceWarning,\n"
     ]
    },
    {
     "name": "stdout",
     "output_type": "stream",
     "text": [
      "Training Acc:  0.9515759816869167\n",
      "Validation Acc:  0.9429477020602218\n",
      "Testing Acc:  0.7222222222222222\n",
      "\n",
      "===Exp No. 36===\n",
      "\n",
      "Test Subject R056:\n",
      "VFI-1: [28]\n",
      "Left-out Test samples:  165\n",
      "Included Training samples:  0\n",
      "# of Healthy Samples: 3202\n",
      "# of Fatigued Samples: 3105\n"
     ]
    },
    {
     "name": "stderr",
     "output_type": "stream",
     "text": [
      "/home/iris/yg5d6/.conda/envs/tsai/lib/python3.7/site-packages/sklearn/svm/_base.py:289: ConvergenceWarning: Solver terminated early (max_iter=1000).  Consider pre-processing your data with StandardScaler or MinMaxScaler.\n",
      "  ConvergenceWarning,\n"
     ]
    },
    {
     "name": "stdout",
     "output_type": "stream",
     "text": [
      "Training Acc:  0.9533121916842847\n",
      "Validation Acc:  0.9318541996830428\n",
      "Testing Acc:  1.0\n",
      "\n",
      "===Exp No. 37===\n",
      "\n",
      "Test Subject R059:\n",
      "VFI-1: [20]\n",
      "Left-out Test samples:  165\n",
      "Included Training samples:  0\n",
      "# of Healthy Samples: 3202\n",
      "# of Fatigued Samples: 3105\n"
     ]
    },
    {
     "name": "stderr",
     "output_type": "stream",
     "text": [
      "/home/iris/yg5d6/.conda/envs/tsai/lib/python3.7/site-packages/sklearn/svm/_base.py:289: ConvergenceWarning: Solver terminated early (max_iter=1000).  Consider pre-processing your data with StandardScaler or MinMaxScaler.\n",
      "  ConvergenceWarning,\n"
     ]
    },
    {
     "name": "stdout",
     "output_type": "stream",
     "text": [
      "Training Acc:  0.9540169133192389\n",
      "Validation Acc:  0.9381933438985737\n",
      "Testing Acc:  1.0\n",
      "\n",
      "===Exp No. 38===\n",
      "\n",
      "Test Subject R069:\n",
      "VFI-1: [11]\n",
      "Left-out Test samples:  162\n",
      "Included Training samples:  0\n",
      "# of Healthy Samples: 3202\n",
      "# of Fatigued Samples: 3108\n"
     ]
    },
    {
     "name": "stderr",
     "output_type": "stream",
     "text": [
      "/home/iris/yg5d6/.conda/envs/tsai/lib/python3.7/site-packages/sklearn/svm/_base.py:289: ConvergenceWarning: Solver terminated early (max_iter=1000).  Consider pre-processing your data with StandardScaler or MinMaxScaler.\n",
      "  ConvergenceWarning,\n"
     ]
    },
    {
     "name": "stdout",
     "output_type": "stream",
     "text": [
      "Training Acc:  0.9554499031519633\n",
      "Validation Acc:  0.9318541996830428\n",
      "Testing Acc:  0.7160493827160493\n",
      "\n",
      "===Exp No. 39===\n",
      "\n",
      "Test Subject R046:\n",
      "VFI-1: [18]\n",
      "Left-out Test samples:  164\n",
      "Included Training samples:  0\n",
      "# of Healthy Samples: 3202\n",
      "# of Fatigued Samples: 3106\n"
     ]
    },
    {
     "name": "stderr",
     "output_type": "stream",
     "text": [
      "/home/iris/yg5d6/.conda/envs/tsai/lib/python3.7/site-packages/sklearn/svm/_base.py:289: ConvergenceWarning: Solver terminated early (max_iter=1000).  Consider pre-processing your data with StandardScaler or MinMaxScaler.\n",
      "  ConvergenceWarning,\n"
     ]
    },
    {
     "name": "stdout",
     "output_type": "stream",
     "text": [
      "Training Acc:  0.9605425400739828\n",
      "Validation Acc:  0.9477020602218701\n",
      "Testing Acc:  0.7378048780487805\n",
      "\n",
      "===Exp No. 40===\n",
      "\n",
      "Test Subject R049:\n",
      "VFI-1: [28]\n",
      "Left-out Test samples:  164\n",
      "Included Training samples:  0\n",
      "# of Healthy Samples: 3202\n",
      "# of Fatigued Samples: 3106\n"
     ]
    },
    {
     "name": "stderr",
     "output_type": "stream",
     "text": [
      "/home/iris/yg5d6/.conda/envs/tsai/lib/python3.7/site-packages/sklearn/svm/_base.py:289: ConvergenceWarning: Solver terminated early (max_iter=1000).  Consider pre-processing your data with StandardScaler or MinMaxScaler.\n",
      "  ConvergenceWarning,\n"
     ]
    },
    {
     "name": "stdout",
     "output_type": "stream",
     "text": [
      "Training Acc:  0.9568434032059187\n",
      "Validation Acc:  0.9461172741679873\n",
      "Testing Acc:  0.8048780487804879\n"
     ]
    }
   ],
   "source": [
    "leftout = 1\n",
    "testing_acc  = np.zeros(40)\n",
    "valid_acc    = np.zeros(40)\n",
    "training_acc = np.zeros(40)\n",
    "p_value      = np.zeros(40)\n",
    "\n",
    "sub_index = [1]\n",
    "for sub_test in range(40):\n",
    "    print('\\n===Exp No. %d===\\n'%(sub_test+1))\n",
    "    \n",
    "    sub_txt = \"R%03d\"%(int(SUBJECT_ID[sub_test][0][0]))\n",
    "    print('Test Subject %s:'%(sub_txt))\n",
    "    print('VFI-1:', (VFI_1[sub_test][0][0]))\n",
    "    if int(VFI_1[sub_test][0][0]) > 10:\n",
    "        sub_group = 'Fatigued'\n",
    "    else:\n",
    "        sub_group = 'Healthy'\n",
    "\n",
    "    # ===== Load Testing Signals =====\n",
    "    num_signal = np.shape(FEAT_N[sub_test,0])[0]    \n",
    "    X_Temp = FEAT_N[sub_test,0]\n",
    "    Y_Temp = LABEL[sub_test,0].flatten()\n",
    "\n",
    "    num_leftout = round(leftout*num_signal)\n",
    "    index_leftout = np.random.choice(range(num_signal), size=num_leftout, replace=False)\n",
    "    print(\"Left-out Test samples: \", index_leftout.size)\n",
    "\n",
    "    X_Test = X_Temp[index_leftout,:]\n",
    "    Y_Test = Y_Temp[index_leftout]\n",
    "\n",
    "    index_include = np.arange(num_signal)\n",
    "    index_include = np.delete(index_include, index_leftout)\n",
    "    print(\"Included Training samples: \", index_include.size)\n",
    "    X_include = X_Temp[index_include,:]\n",
    "    Y_include = Y_Temp[index_include]\n",
    "\n",
    "\n",
    "    # ===== Load Traing Signals =====\n",
    "    X_TV = np.zeros((0,48))\n",
    "    Y_TV = np.zeros(0)    \n",
    "    C_TV = np.zeros(0)\n",
    "    for sub_train in range(40):\n",
    "        if sub_train != sub_test:\n",
    "            x_s = FEAT_N[sub_train,0]\n",
    "            y_s = LABEL[sub_train,0].flatten()\n",
    "            c_s = np.mean(np.mean(SUBJECT_SKINFOLD[sub_train,:]), axis=1)\n",
    "            # ===== CAN BE CONVERTED INTO A FUNCTION =====\n",
    "            X_TV = np.concatenate((X_TV, x_s), axis=0)\n",
    "            Y_TV = np.concatenate((Y_TV, y_s), axis=0)\n",
    "            C_TV = np.concatenate((C_TV, c_s), axis=0)       \n",
    "\n",
    "    print('# of Healthy Samples: %d'%(np.sum(Y_TV == -1)))\n",
    "    print('# of Fatigued Samples: %d'%(np.sum(Y_TV == 1)))    \n",
    "\n",
    "    # ===== Data loading and preprocessing =====\n",
    "    # Training and Validation\n",
    "    X_Train, X_Valid, YC_Train, YC_Valid = train_test_split(X_TV, \n",
    "                                                            np.transpose([Y_TV, C_TV]), \n",
    "                                                            test_size=0.1, \n",
    "                                                            random_state=42)\n",
    "    Y_Train, C_Train = YC_Train[:,0], YC_Train[:,1]\n",
    "    Y_Valid, C_Valid = YC_Valid[:,0], YC_Valid[:,1]    \n",
    "    \n",
    "    clf = SVC(C=1.0, gamma='scale', kernel='rbf', class_weight='balanced', max_iter=1000, tol=0.001)\n",
    "    clf.fit(X_Train, Y_Train)\n",
    "    \n",
    "    label_predict = clf.predict(X_Train)\n",
    "    \n",
    "#     ret = partial_confound_test(Y_Train, label_predict, C_Train, progress=True)  \n",
    "#     print('P value: ', ret.p)\n",
    "#     p_value[sub_test] = ret.p\n",
    "    \n",
    "    print('Training Acc: ', accuracy_score(label_predict, Y_Train))\n",
    "    training_acc[sub_test] = accuracy_score(label_predict, Y_Train)\n",
    "\n",
    "    label_predict = clf.predict(X_Valid)\n",
    "    print('Validation Acc: ', accuracy_score(label_predict, Y_Valid))\n",
    "    valid_acc[sub_test] = accuracy_score(label_predict, Y_Valid)\n",
    "\n",
    "    label_predict = clf.predict(X_Test)\n",
    "    print('Testing Acc: ', accuracy_score(label_predict, Y_Test))\n",
    "    testing_acc[sub_test] = accuracy_score(label_predict, Y_Test)"
   ]
  },
  {
   "cell_type": "code",
   "execution_count": 5,
   "id": "397d6753",
   "metadata": {},
   "outputs": [
    {
     "data": {
      "text/plain": [
       "0.9559956463180279"
      ]
     },
     "execution_count": 5,
     "metadata": {},
     "output_type": "execute_result"
    }
   ],
   "source": [
    "np.mean(training_acc)"
   ]
  },
  {
   "cell_type": "code",
   "execution_count": 6,
   "id": "0b912c12",
   "metadata": {},
   "outputs": [
    {
     "data": {
      "text/plain": [
       "0.9419474276683761"
      ]
     },
     "execution_count": 6,
     "metadata": {},
     "output_type": "execute_result"
    }
   ],
   "source": [
    "np.mean(valid_acc)"
   ]
  },
  {
   "cell_type": "code",
   "execution_count": 7,
   "id": "44ee70a9",
   "metadata": {},
   "outputs": [
    {
     "data": {
      "text/plain": [
       "0.7469364312625681"
      ]
     },
     "execution_count": 7,
     "metadata": {},
     "output_type": "execute_result"
    }
   ],
   "source": [
    "np.mean(testing_acc)"
   ]
  },
  {
   "cell_type": "code",
   "execution_count": 8,
   "id": "9b72b736",
   "metadata": {},
   "outputs": [
    {
     "data": {
      "text/plain": [
       "0.0"
      ]
     },
     "execution_count": 8,
     "metadata": {},
     "output_type": "execute_result"
    }
   ],
   "source": [
    "np.mean(p_value)"
   ]
  },
  {
   "cell_type": "code",
   "execution_count": 9,
   "id": "c1883dfe",
   "metadata": {},
   "outputs": [
    {
     "name": "stdout",
     "output_type": "stream",
     "text": [
      "       Train     Valid      Test  P-Value\n",
      "0   0.969521  0.963550  0.206061      0.0\n",
      "1   0.953144  0.942948  0.957317      0.0\n",
      "2   0.958950  0.954041  0.709091      0.0\n",
      "3   0.953513  0.949287  0.518519      0.0\n",
      "4   0.950519  0.944532  0.876543      0.0\n",
      "5   0.956483  0.946117  0.993939      0.0\n",
      "6   0.953329  0.950872  0.276074      0.0\n",
      "7   0.959220  0.960506  0.940000      0.0\n",
      "8   0.962128  0.954041  0.506098      0.0\n",
      "9   0.959845  0.952456  0.417178      0.0\n",
      "10  0.957020  0.933439  1.000000      0.0\n",
      "11  0.957761  0.931962  0.272152      0.0\n",
      "12  0.955603  0.947702  1.000000      0.0\n",
      "13  0.956866  0.935127  0.831250      0.0\n",
      "14  0.959126  0.938193  0.721212      0.0\n",
      "15  0.952800  0.938193  1.000000      0.0\n",
      "16  0.949260  0.930269  1.000000      0.0\n",
      "17  0.953841  0.944532  0.975758      0.0\n",
      "18  0.957541  0.947702  0.896970      0.0\n",
      "19  0.953720  0.934066  1.000000      0.0\n",
      "20  0.951125  0.931962  0.881579      0.0\n",
      "21  0.953841  0.941363  0.624242      0.0\n",
      "22  0.954545  0.944532  0.218182      0.0\n",
      "23  0.956338  0.922468  0.481250      0.0\n",
      "24  0.957548  0.944532  0.652439      0.0\n",
      "25  0.964594  0.954041  0.207317      0.0\n",
      "26  0.954545  0.936609  1.000000      0.0\n",
      "27  0.951198  0.935024  0.951515      0.0\n",
      "28  0.955250  0.931854  1.000000      0.0\n",
      "29  0.961240  0.946117  0.642424      0.0\n",
      "30  0.958950  0.941363  0.236364      0.0\n",
      "31  0.954369  0.938193  1.000000      0.0\n",
      "32  0.951391  0.939778  1.000000      0.0\n",
      "33  0.952960  0.931854  0.903030      0.0\n",
      "34  0.951576  0.942948  0.722222      0.0\n",
      "35  0.953312  0.931854  1.000000      0.0\n",
      "36  0.954017  0.938193  1.000000      0.0\n",
      "37  0.955450  0.931854  0.716049      0.0\n",
      "38  0.960543  0.947702  0.737805      0.0\n",
      "39  0.956843  0.946117  0.804878      0.0\n"
     ]
    }
   ],
   "source": [
    "import pandas as pd\n",
    "\n",
    "data_array = np.array([training_acc, valid_acc, testing_acc, p_value]).T\n",
    "df = pd.DataFrame(data_array, columns = ['Train', 'Valid', 'Test', 'P-Value'])\n",
    "print(df)"
   ]
  },
  {
   "cell_type": "code",
   "execution_count": 10,
   "id": "7d39acd2",
   "metadata": {},
   "outputs": [
    {
     "data": {
      "text/plain": [
       "Train      0.955996\n",
       "Valid      0.941947\n",
       "Test       0.746936\n",
       "P-Value    0.000000\n",
       "dtype: float64"
      ]
     },
     "execution_count": 10,
     "metadata": {},
     "output_type": "execute_result"
    }
   ],
   "source": [
    "df.mean(axis=0)"
   ]
  },
  {
   "cell_type": "code",
   "execution_count": 11,
   "id": "7fd63f21",
   "metadata": {},
   "outputs": [],
   "source": [
    "df.to_csv('RBF_SVM_LOO.csv')"
   ]
  },
  {
   "cell_type": "code",
   "execution_count": null,
   "id": "63118d8d",
   "metadata": {},
   "outputs": [],
   "source": []
  }
 ],
 "metadata": {
  "kernelspec": {
   "display_name": "Python 3",
   "language": "python",
   "name": "python3"
  },
  "language_info": {
   "codemirror_mode": {
    "name": "ipython",
    "version": 3
   },
   "file_extension": ".py",
   "mimetype": "text/x-python",
   "name": "python",
   "nbconvert_exporter": "python",
   "pygments_lexer": "ipython3",
   "version": "3.7.12"
  }
 },
 "nbformat": 4,
 "nbformat_minor": 5
}
