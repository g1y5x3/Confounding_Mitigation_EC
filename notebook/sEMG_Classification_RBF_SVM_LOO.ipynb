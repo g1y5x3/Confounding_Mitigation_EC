{
 "cells": [
  {
   "cell_type": "code",
   "execution_count": 1,
   "id": "e345df43",
   "metadata": {},
   "outputs": [],
   "source": [
    "import pygad\n",
    "import scipy.io as sio\n",
    "import numpy as np\n",
    "import matplotlib.pyplot as plt\n",
    "\n",
    "from sklearn.svm import LinearSVC, SVC\n",
    "from sklearn.metrics import accuracy_score\n",
    "from sklearn.model_selection import train_test_split\n",
    "\n",
    "from mlconfound.stats import partial_confound_test\n",
    "from mlconfound.plot import plot_null_dist, plot_graph"
   ]
  },
  {
   "cell_type": "code",
   "execution_count": 21,
   "id": "0825a7a6",
   "metadata": {},
   "outputs": [],
   "source": [
    "# DATA_ALL = sio.loadmat(\"../data/subjects_40_vowels_v6.mat\")\n",
    "DATA_ALL = sio.loadmat(\"../data/subjects_40_sen_fix_win1.0.mat\")"
   ]
  },
  {
   "cell_type": "code",
   "execution_count": 22,
   "id": "c25aa3ce",
   "metadata": {},
   "outputs": [
    {
     "name": "stdout",
     "output_type": "stream",
     "text": [
      "dict_keys(['__header__', '__version__', '__globals__', 'DATA', 'FEAT', 'FEAT_N', 'LABEL', 'LABEL_SEN', 'SUBJECT_ID', 'SUBJECT_SKINFOLD', 'SUBJECT_VFI'])\n"
     ]
    }
   ],
   "source": [
    "print(DATA_ALL.keys())"
   ]
  },
  {
   "cell_type": "code",
   "execution_count": 6,
   "id": "739a9d96",
   "metadata": {},
   "outputs": [],
   "source": [
    "FEAT_N           = DATA_ALL['FEAT_N']            # Normalized features\n",
    "LABEL            = DATA_ALL['LABEL']             # Labels\n",
    "LABEL_VOWELS     = DATA_ALL['LABEL_VOWEL']\n",
    "VFI_1            = DATA_ALL['SUBJECT_VFI']\n",
    "SUBJECT_ID       = DATA_ALL['SUBJECT_ID']        # Sujbect ID\n",
    "SUBJECT_SKINFOLD = DATA_ALL['SUBJECT_SKINFOLD']"
   ]
  },
  {
   "cell_type": "code",
   "execution_count": 17,
   "id": "bdd255f9",
   "metadata": {},
   "outputs": [],
   "source": [
    "idx = LABEL_VOWELS[0][0].flatten() == 1"
   ]
  },
  {
   "cell_type": "code",
   "execution_count": 20,
   "id": "bdf7ec5f",
   "metadata": {},
   "outputs": [
    {
     "name": "stdout",
     "output_type": "stream",
     "text": [
      "(55, 48)\n",
      "(55,)\n",
      "55\n"
     ]
    }
   ],
   "source": [
    "X = FEAT_N[0,0][idx,:]\n",
    "print(X.shape)\n",
    "Y = LABEL[0,0].flatten()[idx]\n",
    "print(Y.shape)\n",
    "print(np.size(Y))"
   ]
  },
  {
   "cell_type": "code",
   "execution_count": null,
   "id": "53602e6e",
   "metadata": {
    "scrolled": true
   },
   "outputs": [],
   "source": [
    "leftout = 1\n",
    "testing_acc  = np.zeros(40)\n",
    "valid_acc    = np.zeros(40)\n",
    "training_acc = np.zeros(40)\n",
    "p_value      = np.zeros(40)\n",
    "\n",
    "sub_index = [1]\n",
    "for sub_test in range(40):\n",
    "    print('\\n===Exp No. %d===\\n'%(sub_test+1))\n",
    "    \n",
    "    sub_txt = \"R%03d\"%(int(SUBJECT_ID[sub_test][0][0]))\n",
    "    print('Test Subject %s:'%(sub_txt))\n",
    "    print('VFI-1:', (VFI_1[sub_test][0][0]))\n",
    "    if int(VFI_1[sub_test][0][0]) > 10:\n",
    "        sub_group = 'Fatigued'\n",
    "    else:\n",
    "        sub_group = 'Healthy'\n",
    "\n",
    "    # ===== Load Testing Signals =====\n",
    "    num_signal = np.shape(FEAT_N[sub_test,0])[0]    \n",
    "    X_Temp = FEAT_N[sub_test,0]\n",
    "    Y_Temp = LABEL[sub_test,0].flatten()\n",
    "\n",
    "    num_leftout = round(leftout*num_signal)\n",
    "    index_leftout = np.random.choice(range(num_signal), size=num_leftout, replace=False)\n",
    "    print(\"Left-out Test samples: \", index_leftout.size)\n",
    "\n",
    "    X_Test = X_Temp[index_leftout,:]\n",
    "    Y_Test = Y_Temp[index_leftout]\n",
    "\n",
    "    index_include = np.arange(num_signal)\n",
    "    index_include = np.delete(index_include, index_leftout)\n",
    "    print(\"Included Training samples: \", index_include.size)\n",
    "    X_include = X_Temp[index_include,:]\n",
    "    Y_include = Y_Temp[index_include]\n",
    "\n",
    "\n",
    "    # ===== Load Traing Signals =====\n",
    "    X_TV = np.zeros((0,48))\n",
    "    Y_TV = np.zeros(0)    \n",
    "    C_TV = np.zeros(0)\n",
    "    for sub_train in range(40):\n",
    "        if sub_train != sub_test:\n",
    "            x_s = FEAT_N[sub_train,0]\n",
    "            y_s = LABEL[sub_train,0].flatten()\n",
    "            c_s = np.mean(np.mean(SUBJECT_SKINFOLD[sub_train,:]), axis=1)\n",
    "            # ===== CAN BE CONVERTED INTO A FUNCTION =====\n",
    "            X_TV = np.concatenate((X_TV, x_s), axis=0)\n",
    "            Y_TV = np.concatenate((Y_TV, y_s), axis=0)\n",
    "            C_TV = np.concatenate((C_TV, c_s), axis=0)       \n",
    "\n",
    "    print('# of Healthy Samples: %d'%(np.sum(Y_TV == -1)))\n",
    "    print('# of Fatigued Samples: %d'%(np.sum(Y_TV == 1)))    \n",
    "\n",
    "    # ===== Data loading and preprocessing =====\n",
    "    # Training and Validation\n",
    "    X_Train, X_Valid, YC_Train, YC_Valid = train_test_split(X_TV, \n",
    "                                                            np.transpose([Y_TV, C_TV]), \n",
    "                                                            test_size=0.1, \n",
    "                                                            random_state=42)\n",
    "    Y_Train, C_Train = YC_Train[:,0], YC_Train[:,1]\n",
    "    Y_Valid, C_Valid = YC_Valid[:,0], YC_Valid[:,1]    \n",
    "    \n",
    "    clf = SVC(C=1.0, gamma='scale', kernel='rbf', class_weight='balanced', max_iter=1000, tol=0.001)\n",
    "    clf.fit(X_Train, Y_Train)\n",
    "    \n",
    "    label_predict = clf.predict(X_Train)\n",
    "    \n",
    "#     ret = partial_confound_test(Y_Train, label_predict, C_Train, progress=True)  \n",
    "#     print('P value: ', ret.p)\n",
    "#     p_value[sub_test] = ret.p\n",
    "    \n",
    "    print('Training Acc: ', accuracy_score(label_predict, Y_Train))\n",
    "    training_acc[sub_test] = accuracy_score(label_predict, Y_Train)\n",
    "\n",
    "    label_predict = clf.predict(X_Valid)\n",
    "    print('Validation Acc: ', accuracy_score(label_predict, Y_Valid))\n",
    "    valid_acc[sub_test] = accuracy_score(label_predict, Y_Valid)\n",
    "\n",
    "    label_predict = clf.predict(X_Test)\n",
    "    print('Testing Acc: ', accuracy_score(label_predict, Y_Test))\n",
    "    testing_acc[sub_test] = accuracy_score(label_predict, Y_Test)"
   ]
  },
  {
   "cell_type": "code",
   "execution_count": null,
   "id": "397d6753",
   "metadata": {},
   "outputs": [],
   "source": [
    "np.mean(training_acc)"
   ]
  },
  {
   "cell_type": "code",
   "execution_count": null,
   "id": "0b912c12",
   "metadata": {},
   "outputs": [],
   "source": [
    "np.mean(valid_acc)"
   ]
  },
  {
   "cell_type": "code",
   "execution_count": null,
   "id": "44ee70a9",
   "metadata": {},
   "outputs": [],
   "source": [
    "np.mean(testing_acc)"
   ]
  },
  {
   "cell_type": "code",
   "execution_count": null,
   "id": "9b72b736",
   "metadata": {},
   "outputs": [],
   "source": [
    "np.mean(p_value)"
   ]
  },
  {
   "cell_type": "code",
   "execution_count": null,
   "id": "c1883dfe",
   "metadata": {},
   "outputs": [],
   "source": [
    "import pandas as pd\n",
    "\n",
    "data_array = np.array([training_acc, valid_acc, testing_acc, p_value]).T\n",
    "df = pd.DataFrame(data_array, columns = ['Train', 'Valid', 'Test', 'P-Value'])\n",
    "print(df)"
   ]
  },
  {
   "cell_type": "code",
   "execution_count": null,
   "id": "7d39acd2",
   "metadata": {},
   "outputs": [],
   "source": [
    "df.mean(axis=0)"
   ]
  },
  {
   "cell_type": "code",
   "execution_count": null,
   "id": "7fd63f21",
   "metadata": {},
   "outputs": [],
   "source": [
    "df.to_csv('RBF_SVM_LOO.csv')"
   ]
  },
  {
   "cell_type": "code",
   "execution_count": null,
   "id": "63118d8d",
   "metadata": {},
   "outputs": [],
   "source": []
  }
 ],
 "metadata": {
  "kernelspec": {
   "display_name": "Python 3",
   "language": "python",
   "name": "python3"
  },
  "language_info": {
   "codemirror_mode": {
    "name": "ipython",
    "version": 3
   },
   "file_extension": ".py",
   "mimetype": "text/x-python",
   "name": "python",
   "nbconvert_exporter": "python",
   "pygments_lexer": "ipython3",
   "version": "3.7.12"
  }
 },
 "nbformat": 4,
 "nbformat_minor": 5
}
