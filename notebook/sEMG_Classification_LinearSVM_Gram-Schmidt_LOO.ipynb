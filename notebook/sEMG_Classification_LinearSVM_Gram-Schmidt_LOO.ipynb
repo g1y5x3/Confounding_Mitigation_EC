{
 "cells": [
  {
   "cell_type": "code",
   "execution_count": 1,
   "id": "1fb6c7c5",
   "metadata": {},
   "outputs": [],
   "source": [
    "import pygad\n",
    "import scipy.io as sio\n",
    "import numpy as np\n",
    "import matplotlib.pyplot as plt\n",
    "\n",
    "from sklearn.svm import LinearSVC, SVC\n",
    "from sklearn.metrics import accuracy_score\n",
    "from mlconfound.stats import partial_confound_test\n",
    "from mlconfound.plot import plot_null_dist, plot_graph\n",
    "from sklearn.model_selection import train_test_split"
   ]
  },
  {
   "cell_type": "code",
   "execution_count": 2,
   "id": "768d6c80",
   "metadata": {},
   "outputs": [
    {
     "data": {
      "text/plain": [
       "dict_keys(['__header__', '__version__', '__globals__', 'DATA', 'FEAT', 'FEAT_N', 'LABEL', 'LABEL_VOWEL', 'SUBJECT_ID', 'SUBJECT_SKINFOLD', 'SUBJECT_VFI', 'VOWEL_REP'])"
      ]
     },
     "execution_count": 2,
     "metadata": {},
     "output_type": "execute_result"
    }
   ],
   "source": [
    "DATA_ALL = sio.loadmat(\"data/subjects_40_v6.mat\")"
   ]
  },
  {
   "cell_type": "code",
   "execution_count": 3,
   "id": "3e5ea0c2",
   "metadata": {},
   "outputs": [],
   "source": [
    "FEAT_N           = DATA_ALL['FEAT_N']            # Normalized features\n",
    "LABEL            = DATA_ALL['LABEL']             # Labels\n",
    "VFI_1            = DATA_ALL['SUBJECT_VFI']\n",
    "SUBJECT_ID       = DATA_ALL['SUBJECT_ID']        # Sujbect ID\n",
    "SUBJECT_SKINFOLD = DATA_ALL['SUBJECT_SKINFOLD']"
   ]
  },
  {
   "cell_type": "code",
   "execution_count": 4,
   "id": "7e013ceb",
   "metadata": {},
   "outputs": [],
   "source": [
    "# Gram-Schmidt\n",
    "def gram_schmidt(A,norm=True,row_vect=False):\n",
    "    \"\"\"Orthonormalizes vectors by gram-schmidt process\n",
    "    \n",
    "    Parameters\n",
    "    -----------\n",
    "    A : ndarray,\n",
    "    Matrix having vectors in its columns\n",
    "    \n",
    "    norm : bool,\n",
    "    Do you need Normalized vectors?\n",
    "    \n",
    "    row_vect: bool,\n",
    "    Does Matrix A has vectors in its rows?\n",
    "    \n",
    "    Returns \n",
    "    -------\n",
    "    G : ndarray,\n",
    "    Matrix of orthogonal vectors \n",
    "    \n",
    "    \"\"\"\n",
    "    if row_vect :\n",
    "        # if true, transpose it to make column vector matrix\n",
    "        A = A.T\n",
    "    \n",
    "    no_of_vectors = A.shape[1]\n",
    "    G = A[:,0:1].copy() # copy the first vector in matrix\n",
    "    # 0:1 is done to to be consistent with dimensions - [[1,2,3]]\n",
    "    \n",
    "    # iterate from 2nd vector to number of vectors\n",
    "    for i in range(1,no_of_vectors):\n",
    "        \n",
    "        # calculates weights(coefficents) for every vector in G\n",
    "        numerator = A[:,i].dot(G)\n",
    "        denominator = np.diag(np.dot(G.T,G)) #to get elements in diagonal\n",
    "        weights = np.squeeze(numerator/denominator)\n",
    "        \n",
    "        # projected vector onto subspace G \n",
    "        projected_vector = np.sum(weights * G,\n",
    "                                  axis=1,\n",
    "                                  keepdims=True)\n",
    "        \n",
    "        # orthogonal vector to subspace G\n",
    "        orthogonalized_vector = A[:,i:i+1] - projected_vector\n",
    "        \n",
    "        # now add the orthogonal vector to our set \n",
    "        G = np.hstack((G,orthogonalized_vector))\n",
    "        \n",
    "    if norm :\n",
    "        # to get orthoNORMAL vectors (unit orthogonal vectors)\n",
    "        # replace zero to 1 to deal with division by 0 if matrix has 0 vector\n",
    "        G = G/replace_zero(np.linalg.norm(G,axis=0))\n",
    "    \n",
    "    if row_vect:\n",
    "        return G.T\n",
    "    \n",
    "    return G\n",
    "\n",
    "def replace_zero(array): \n",
    "    \n",
    "    for i in range(len(array)) :\n",
    "        if array[i] == 0 : \n",
    "            array[i] = 1\n",
    "    return array"
   ]
  },
  {
   "cell_type": "code",
   "execution_count": 5,
   "id": "b3145ed3",
   "metadata": {},
   "outputs": [],
   "source": [
    "# Testing the matrix for Gram-Schmidt Orthogonization\n",
    "features_all = np.zeros((0,48))\n",
    "label_all    = np.zeros((0,1))\n",
    "skinfold     = np.zeros((0,2))\n",
    "subject_id   = np.zeros((0,1))\n",
    "\n",
    "# subject_\n",
    "\n",
    "for i_sub in range(40):\n",
    "    features_all = np.append(features_all, FEAT_N[i_sub,0],           axis=0)\n",
    "    label_all    = np.append(label_all,    LABEL[i_sub,0],            axis=0)\n",
    "    skinfold     = np.append(skinfold,     SUBJECT_SKINFOLD[i_sub,0], axis=0)\n",
    "    subject_id   = np.append(subject_id,   SUBJECT_ID[i_sub,0],       axis=0)\n",
    "    \n",
    "skinfold_avg = np.mean(skinfold, axis=1) "
   ]
  },
  {
   "cell_type": "code",
   "execution_count": 6,
   "id": "21e1f030",
   "metadata": {},
   "outputs": [
    {
     "name": "stdout",
     "output_type": "stream",
     "text": [
      "(6472, 48)\n"
     ]
    }
   ],
   "source": [
    "# Move the skinfold thickness as the first column\n",
    "G = np.concatenate((skinfold_avg.reshape((-1,1)), features_all), axis=1)\n",
    "# print(np.shape(G))\n",
    "# Perform the Gram Schmidt Orthogonization\n",
    "G_test = gram_schmidt(G)\n",
    "feature_G = G_test[:,1:]\n",
    "print(np.shape(feature_G))"
   ]
  },
  {
   "cell_type": "code",
   "execution_count": 7,
   "id": "fb87d434",
   "metadata": {
    "scrolled": false
   },
   "outputs": [
    {
     "name": "stdout",
     "output_type": "stream",
     "text": [
      "\n",
      "===Exp No. 1===\n",
      "\n",
      "Test Subject R044:\n",
      "VFI-1: [0]\n",
      "# of Healthy Samples: 3037\n",
      "# of Fatigued Samples: 3270\n"
     ]
    },
    {
     "name": "stderr",
     "output_type": "stream",
     "text": [
      "Permuting: 100%|██████████| 1000/1000 [00:17<00:00, 58.43it/s]\n"
     ]
    },
    {
     "name": "stdout",
     "output_type": "stream",
     "text": [
      "P value:  0.994\n",
      "Training Acc:  0.8757928118393234\n",
      "Validation Acc:  0.8827258320126783\n",
      "Testing Acc:  0.24242424242424243\n",
      "\n",
      "===Exp No. 2===\n",
      "\n",
      "Test Subject R041:\n",
      "VFI-1: [2]\n",
      "# of Healthy Samples: 3038\n",
      "# of Fatigued Samples: 3270\n"
     ]
    },
    {
     "name": "stderr",
     "output_type": "stream",
     "text": [
      "Permuting: 100%|██████████| 1000/1000 [00:14<00:00, 68.53it/s]\n"
     ]
    },
    {
     "name": "stdout",
     "output_type": "stream",
     "text": [
      "P value:  0.931\n",
      "Training Acc:  0.8728201514884623\n",
      "Validation Acc:  0.873217115689382\n",
      "Testing Acc:  0.3719512195121951\n",
      "\n",
      "===Exp No. 3===\n",
      "\n",
      "Test Subject R081:\n",
      "VFI-1: [0]\n",
      "# of Healthy Samples: 3037\n",
      "# of Fatigued Samples: 3270\n"
     ]
    },
    {
     "name": "stderr",
     "output_type": "stream",
     "text": [
      "Permuting: 100%|██████████| 1000/1000 [00:15<00:00, 62.73it/s]\n"
     ]
    },
    {
     "name": "stdout",
     "output_type": "stream",
     "text": [
      "P value:  0.997\n",
      "Training Acc:  0.8662790697674418\n",
      "Validation Acc:  0.8700475435816165\n",
      "Testing Acc:  0.7818181818181819\n",
      "\n",
      "===Exp No. 4===\n",
      "\n",
      "Test Subject R085:\n",
      "VFI-1: [1]\n",
      "# of Healthy Samples: 3040\n",
      "# of Fatigued Samples: 3270\n"
     ]
    },
    {
     "name": "stderr",
     "output_type": "stream",
     "text": [
      "Permuting: 100%|██████████| 1000/1000 [00:16<00:00, 60.87it/s]\n"
     ]
    },
    {
     "name": "stdout",
     "output_type": "stream",
     "text": [
      "P value:  0.213\n",
      "Training Acc:  0.8763866877971473\n",
      "Validation Acc:  0.884310618066561\n",
      "Testing Acc:  0.24074074074074073\n",
      "\n",
      "===Exp No. 5===\n",
      "\n",
      "Test Subject R008:\n",
      "VFI-1: [3]\n",
      "# of Healthy Samples: 3040\n",
      "# of Fatigued Samples: 3270\n"
     ]
    },
    {
     "name": "stderr",
     "output_type": "stream",
     "text": [
      "Permuting: 100%|██████████| 1000/1000 [00:16<00:00, 60.16it/s]\n"
     ]
    },
    {
     "name": "stdout",
     "output_type": "stream",
     "text": [
      "P value:  0.999\n",
      "Training Acc:  0.8619475259728826\n",
      "Validation Acc:  0.8573692551505546\n",
      "Testing Acc:  0.9938271604938271\n",
      "\n",
      "===Exp No. 6===\n",
      "\n",
      "Test Subject R024:\n",
      "VFI-1: [4]\n",
      "# of Healthy Samples: 3037\n",
      "# of Fatigued Samples: 3270\n"
     ]
    },
    {
     "name": "stderr",
     "output_type": "stream",
     "text": [
      "Permuting: 100%|██████████| 1000/1000 [00:17<00:00, 57.31it/s]\n"
     ]
    },
    {
     "name": "stdout",
     "output_type": "stream",
     "text": [
      "P value:  0.723\n",
      "Training Acc:  0.8678646934460887\n",
      "Validation Acc:  0.8652931854199684\n",
      "Testing Acc:  0.6121212121212121\n",
      "\n",
      "===Exp No. 7===\n",
      "\n",
      "Test Subject R034:\n",
      "VFI-1: [0]\n",
      "# of Healthy Samples: 3039\n",
      "# of Fatigued Samples: 3270\n"
     ]
    },
    {
     "name": "stderr",
     "output_type": "stream",
     "text": [
      "Permuting: 100%|██████████| 1000/1000 [00:17<00:00, 57.63it/s]\n"
     ]
    },
    {
     "name": "stdout",
     "output_type": "stream",
     "text": [
      "P value:  0.994\n",
      "Training Acc:  0.8784783374427615\n",
      "Validation Acc:  0.8716323296354992\n",
      "Testing Acc:  0.2392638036809816\n",
      "\n",
      "===Exp No. 8===\n",
      "\n",
      "Test Subject R029:\n",
      "VFI-1: [1]\n",
      "# of Healthy Samples: 3052\n",
      "# of Fatigued Samples: 3270\n"
     ]
    },
    {
     "name": "stderr",
     "output_type": "stream",
     "text": [
      "Permuting: 100%|██████████| 1000/1000 [00:17<00:00, 57.64it/s]\n"
     ]
    },
    {
     "name": "stdout",
     "output_type": "stream",
     "text": [
      "P value:  0.998\n",
      "Training Acc:  0.8642995253998945\n",
      "Validation Acc:  0.8704581358609794\n",
      "Testing Acc:  1.0\n",
      "\n",
      "===Exp No. 9===\n",
      "\n",
      "Test Subject R052:\n",
      "VFI-1: [1]\n",
      "# of Healthy Samples: 3038\n",
      "# of Fatigued Samples: 3270\n"
     ]
    },
    {
     "name": "stderr",
     "output_type": "stream",
     "text": [
      "Permuting: 100%|██████████| 1000/1000 [00:17<00:00, 58.11it/s]\n"
     ]
    },
    {
     "name": "stdout",
     "output_type": "stream",
     "text": [
      "P value:  0.987\n",
      "Training Acc:  0.873524748987141\n",
      "Validation Acc:  0.8526148969889065\n",
      "Testing Acc:  0.5426829268292683\n",
      "\n",
      "===Exp No. 10===\n",
      "\n",
      "Test Subject R039:\n",
      "VFI-1: [4]\n",
      "# of Healthy Samples: 3039\n",
      "# of Fatigued Samples: 3270\n"
     ]
    },
    {
     "name": "stderr",
     "output_type": "stream",
     "text": [
      "Permuting: 100%|██████████| 1000/1000 [00:17<00:00, 56.15it/s]\n"
     ]
    },
    {
     "name": "stdout",
     "output_type": "stream",
     "text": [
      "P value:  0.974\n",
      "Training Acc:  0.8740753786544558\n",
      "Validation Acc:  0.8526148969889065\n",
      "Testing Acc:  0.4110429447852761\n",
      "\n",
      "===Exp No. 11===\n",
      "\n",
      "Test Subject R088:\n",
      "VFI-1: [4]\n",
      "# of Healthy Samples: 3038\n",
      "# of Fatigued Samples: 3270\n"
     ]
    },
    {
     "name": "stderr",
     "output_type": "stream",
     "text": [
      "Permuting: 100%|██████████| 1000/1000 [00:16<00:00, 59.60it/s]\n"
     ]
    },
    {
     "name": "stdout",
     "output_type": "stream",
     "text": [
      "P value:  0.995\n",
      "Training Acc:  0.8670072221243614\n",
      "Validation Acc:  0.8446909667194928\n",
      "Testing Acc:  0.9939024390243902\n",
      "\n",
      "===Exp No. 12===\n",
      "\n",
      "Test Subject R092:\n",
      "VFI-1: [4]\n",
      "# of Healthy Samples: 3044\n",
      "# of Fatigued Samples: 3270\n"
     ]
    },
    {
     "name": "stderr",
     "output_type": "stream",
     "text": [
      "Permuting: 100%|██████████| 1000/1000 [00:17<00:00, 57.67it/s]\n"
     ]
    },
    {
     "name": "stdout",
     "output_type": "stream",
     "text": [
      "P value:  0.999\n",
      "Training Acc:  0.8702921506511792\n",
      "Validation Acc:  0.8591772151898734\n",
      "Testing Acc:  0.2911392405063291\n",
      "\n",
      "===Exp No. 13===\n",
      "\n",
      "Test Subject R016:\n",
      "VFI-1: [4]\n",
      "# of Healthy Samples: 3037\n",
      "# of Fatigued Samples: 3270\n"
     ]
    },
    {
     "name": "stderr",
     "output_type": "stream",
     "text": [
      "Permuting: 100%|██████████| 1000/1000 [00:16<00:00, 60.02it/s]\n"
     ]
    },
    {
     "name": "stdout",
     "output_type": "stream",
     "text": [
      "P value:  0.971\n",
      "Training Acc:  0.864693446088795\n",
      "Validation Acc:  0.849445324881141\n",
      "Testing Acc:  0.806060606060606\n",
      "\n",
      "===Exp No. 14===\n",
      "\n",
      "Test Subject R002:\n",
      "VFI-1: [0]\n",
      "# of Healthy Samples: 3042\n",
      "# of Fatigued Samples: 3270\n"
     ]
    },
    {
     "name": "stderr",
     "output_type": "stream",
     "text": [
      "Permuting: 100%|██████████| 1000/1000 [00:16<00:00, 60.56it/s]\n"
     ]
    },
    {
     "name": "stdout",
     "output_type": "stream",
     "text": [
      "P value:  0.997\n",
      "Training Acc:  0.8672535211267606\n",
      "Validation Acc:  0.8322784810126582\n",
      "Testing Acc:  1.0\n",
      "\n",
      "===Exp No. 15===\n",
      "\n",
      "Test Subject R084:\n",
      "VFI-1: [1]\n",
      "# of Healthy Samples: 3037\n",
      "# of Fatigued Samples: 3270\n"
     ]
    },
    {
     "name": "stderr",
     "output_type": "stream",
     "text": [
      "Permuting: 100%|██████████| 1000/1000 [00:16<00:00, 61.65it/s]\n"
     ]
    },
    {
     "name": "stdout",
     "output_type": "stream",
     "text": [
      "P value:  0.934\n",
      "Training Acc:  0.8661028893587033\n",
      "Validation Acc:  0.8367670364500792\n",
      "Testing Acc:  0.9818181818181818\n",
      "\n",
      "===Exp No. 16===\n",
      "\n",
      "Test Subject R040:\n",
      "VFI-1: [4]\n",
      "# of Healthy Samples: 3039\n",
      "# of Fatigued Samples: 3270\n"
     ]
    },
    {
     "name": "stderr",
     "output_type": "stream",
     "text": [
      "Permuting: 100%|██████████| 1000/1000 [00:16<00:00, 60.46it/s]\n"
     ]
    },
    {
     "name": "stdout",
     "output_type": "stream",
     "text": [
      "P value:  0.967\n",
      "Training Acc:  0.8656216977809088\n",
      "Validation Acc:  0.8304278922345484\n",
      "Testing Acc:  0.9877300613496932\n",
      "\n",
      "===Exp No. 17===\n",
      "\n",
      "Test Subject R037:\n",
      "VFI-1: [0]\n",
      "# of Healthy Samples: 3037\n",
      "# of Fatigued Samples: 3270\n"
     ]
    },
    {
     "name": "stderr",
     "output_type": "stream",
     "text": [
      "Permuting: 100%|██████████| 1000/1000 [00:16<00:00, 62.42it/s]\n"
     ]
    },
    {
     "name": "stdout",
     "output_type": "stream",
     "text": [
      "P value:  0.902\n",
      "Training Acc:  0.8643410852713178\n",
      "Validation Acc:  0.8526148969889065\n",
      "Testing Acc:  0.7696969696969697\n",
      "\n",
      "===Exp No. 18===\n",
      "\n",
      "Test Subject R090:\n",
      "VFI-1: [3]\n",
      "# of Healthy Samples: 3037\n",
      "# of Fatigued Samples: 3270\n"
     ]
    },
    {
     "name": "stderr",
     "output_type": "stream",
     "text": [
      "Permuting: 100%|██████████| 1000/1000 [00:15<00:00, 63.26it/s]\n"
     ]
    },
    {
     "name": "stdout",
     "output_type": "stream",
     "text": [
      "P value:  0.924\n",
      "Training Acc:  0.8661028893587033\n",
      "Validation Acc:  0.8399366085578447\n",
      "Testing Acc:  0.7636363636363637\n",
      "\n",
      "===Exp No. 19===\n",
      "\n",
      "Test Subject R061:\n",
      "VFI-1: [2]\n",
      "# of Healthy Samples: 3037\n",
      "# of Fatigued Samples: 3270\n"
     ]
    },
    {
     "name": "stderr",
     "output_type": "stream",
     "text": [
      "Permuting: 100%|██████████| 1000/1000 [00:15<00:00, 63.78it/s]\n"
     ]
    },
    {
     "name": "stdout",
     "output_type": "stream",
     "text": [
      "P value:  0.902\n",
      "Training Acc:  0.8712121212121212\n",
      "Validation Acc:  0.8335974643423137\n",
      "Testing Acc:  0.28484848484848485\n",
      "\n",
      "===Exp No. 20===\n",
      "\n",
      "Test Subject R010:\n",
      "VFI-1: [4]\n",
      "# of Healthy Samples: 3093\n",
      "# of Fatigued Samples: 3270\n"
     ]
    },
    {
     "name": "stderr",
     "output_type": "stream",
     "text": [
      "Permuting: 100%|██████████| 1000/1000 [00:15<00:00, 63.53it/s]\n"
     ]
    },
    {
     "name": "stdout",
     "output_type": "stream",
     "text": [
      "P value:  0.997\n",
      "Training Acc:  0.8637792525323088\n",
      "Validation Acc:  0.8571428571428571\n",
      "Testing Acc:  0.9908256880733946\n",
      "\n",
      "===Exp No. 21===\n",
      "\n",
      "Test Subject R057:\n",
      "VFI-1: [17]\n",
      "# of Healthy Samples: 3202\n",
      "# of Fatigued Samples: 3118\n"
     ]
    },
    {
     "name": "stderr",
     "output_type": "stream",
     "text": [
      "Permuting: 100%|██████████| 1000/1000 [00:15<00:00, 66.56it/s]\n"
     ]
    },
    {
     "name": "stdout",
     "output_type": "stream",
     "text": [
      "P value:  1.0\n",
      "Training Acc:  0.8646272855133614\n",
      "Validation Acc:  0.8354430379746836\n",
      "Testing Acc:  0.45394736842105265\n",
      "\n",
      "===Exp No. 22===\n",
      "\n",
      "Test Subject R058:\n",
      "VFI-1: [11]\n",
      "# of Healthy Samples: 3202\n",
      "# of Fatigued Samples: 3105\n"
     ]
    },
    {
     "name": "stderr",
     "output_type": "stream",
     "text": [
      "Permuting: 100%|██████████| 1000/1000 [00:14<00:00, 67.16it/s]\n"
     ]
    },
    {
     "name": "stdout",
     "output_type": "stream",
     "text": [
      "P value:  0.976\n",
      "Training Acc:  0.8680408738548273\n",
      "Validation Acc:  0.8367670364500792\n",
      "Testing Acc:  0.5818181818181818\n",
      "\n",
      "===Exp No. 23===\n",
      "\n",
      "Test Subject R011:\n",
      "VFI-1: [23]\n",
      "# of Healthy Samples: 3202\n",
      "# of Fatigued Samples: 3105\n"
     ]
    },
    {
     "name": "stderr",
     "output_type": "stream",
     "text": [
      "Permuting: 100%|██████████| 1000/1000 [00:15<00:00, 63.46it/s]\n"
     ]
    },
    {
     "name": "stdout",
     "output_type": "stream",
     "text": [
      "P value:  1.0\n",
      "Training Acc:  0.8891825229034531\n",
      "Validation Acc:  0.866877971473851\n",
      "Testing Acc:  0.07878787878787878\n",
      "\n",
      "===Exp No. 24===\n",
      "\n",
      "Test Subject R019:\n",
      "VFI-1: [22]\n",
      "# of Healthy Samples: 3202\n",
      "# of Fatigued Samples: 3110\n"
     ]
    },
    {
     "name": "stderr",
     "output_type": "stream",
     "text": [
      "Permuting: 100%|██████████| 1000/1000 [00:16<00:00, 61.74it/s]\n"
     ]
    },
    {
     "name": "stdout",
     "output_type": "stream",
     "text": [
      "P value:  0.975\n",
      "Training Acc:  0.8647887323943662\n",
      "Validation Acc:  0.8496835443037974\n",
      "Testing Acc:  0.51875\n",
      "\n",
      "===Exp No. 25===\n",
      "\n",
      "Test Subject R021:\n",
      "VFI-1: [18]\n",
      "# of Healthy Samples: 3202\n",
      "# of Fatigued Samples: 3106\n"
     ]
    },
    {
     "name": "stderr",
     "output_type": "stream",
     "text": [
      "Permuting: 100%|██████████| 1000/1000 [00:16<00:00, 61.25it/s]\n"
     ]
    },
    {
     "name": "stdout",
     "output_type": "stream",
     "text": [
      "P value:  0.946\n",
      "Training Acc:  0.8687687158710586\n",
      "Validation Acc:  0.8193343898573693\n",
      "Testing Acc:  0.3780487804878049\n",
      "\n",
      "===Exp No. 26===\n",
      "\n",
      "Test Subject R030:\n",
      "VFI-1: [11]\n",
      "# of Healthy Samples: 3202\n",
      "# of Fatigued Samples: 3106\n"
     ]
    },
    {
     "name": "stderr",
     "output_type": "stream",
     "text": [
      "Permuting: 100%|██████████| 1000/1000 [00:15<00:00, 64.48it/s]\n"
     ]
    },
    {
     "name": "stdout",
     "output_type": "stream",
     "text": [
      "P value:  0.0\n",
      "Training Acc:  0.8846221595913335\n",
      "Validation Acc:  0.8351822503961965\n",
      "Testing Acc:  0.10365853658536585\n",
      "\n",
      "===Exp No. 27===\n",
      "\n",
      "Test Subject R032:\n",
      "VFI-1: [11]\n",
      "# of Healthy Samples: 3202\n",
      "# of Fatigued Samples: 3105\n"
     ]
    },
    {
     "name": "stderr",
     "output_type": "stream",
     "text": [
      "Permuting: 100%|██████████| 1000/1000 [00:15<00:00, 64.42it/s]\n"
     ]
    },
    {
     "name": "stdout",
     "output_type": "stream",
     "text": [
      "P value:  1.0\n",
      "Training Acc:  0.8634601832276251\n",
      "Validation Acc:  0.8320126782884311\n",
      "Testing Acc:  0.9393939393939394\n",
      "\n",
      "===Exp No. 28===\n",
      "\n",
      "Test Subject R043:\n",
      "VFI-1: [19]\n",
      "# of Healthy Samples: 3202\n",
      "# of Fatigued Samples: 3105\n"
     ]
    },
    {
     "name": "stderr",
     "output_type": "stream",
     "text": [
      "Permuting: 100%|██████████| 1000/1000 [00:15<00:00, 66.42it/s]\n"
     ]
    },
    {
     "name": "stdout",
     "output_type": "stream",
     "text": [
      "P value:  0.967\n",
      "Training Acc:  0.8655743481324877\n",
      "Validation Acc:  0.8351822503961965\n",
      "Testing Acc:  0.9939393939393939\n",
      "\n",
      "===Exp No. 29===\n",
      "\n",
      "Test Subject R045:\n",
      "VFI-1: [20]\n",
      "# of Healthy Samples: 3202\n",
      "# of Fatigued Samples: 3105\n"
     ]
    },
    {
     "name": "stderr",
     "output_type": "stream",
     "text": [
      "Permuting: 100%|██████████| 1000/1000 [00:14<00:00, 70.65it/s]\n"
     ]
    },
    {
     "name": "stdout",
     "output_type": "stream",
     "text": [
      "P value:  1.0\n",
      "Training Acc:  0.8710359408033826\n",
      "Validation Acc:  0.8367670364500792\n",
      "Testing Acc:  0.6606060606060606\n",
      "\n",
      "===Exp No. 30===\n",
      "\n",
      "Test Subject R047:\n",
      "VFI-1: [24]\n",
      "# of Healthy Samples: 3202\n",
      "# of Fatigued Samples: 3105\n"
     ]
    },
    {
     "name": "stderr",
     "output_type": "stream",
     "text": [
      "Permuting: 100%|██████████| 1000/1000 [00:07<00:00, 127.81it/s]\n"
     ]
    },
    {
     "name": "stdout",
     "output_type": "stream",
     "text": [
      "P value:  0.997\n",
      "Training Acc:  0.86892177589852\n",
      "Validation Acc:  0.8399366085578447\n",
      "Testing Acc:  0.6727272727272727\n",
      "\n",
      "===Exp No. 31===\n",
      "\n",
      "Test Subject R083:\n",
      "VFI-1: [15]\n",
      "# of Healthy Samples: 3202\n",
      "# of Fatigued Samples: 3105\n"
     ]
    },
    {
     "name": "stderr",
     "output_type": "stream",
     "text": [
      "Permuting: 100%|██████████| 1000/1000 [00:07<00:00, 126.44it/s]\n"
     ]
    },
    {
     "name": "stdout",
     "output_type": "stream",
     "text": [
      "P value:  1.0\n",
      "Training Acc:  0.8731501057082452\n",
      "Validation Acc:  0.838351822503962\n",
      "Testing Acc:  0.18787878787878787\n",
      "\n",
      "===Exp No. 32===\n",
      "\n",
      "Test Subject R071:\n",
      "VFI-1: [13]\n",
      "# of Healthy Samples: 3202\n",
      "# of Fatigued Samples: 3105\n"
     ]
    },
    {
     "name": "stderr",
     "output_type": "stream",
     "text": [
      "Permuting: 100%|██████████| 1000/1000 [00:08<00:00, 120.14it/s]\n"
     ]
    },
    {
     "name": "stdout",
     "output_type": "stream",
     "text": [
      "P value:  0.956\n",
      "Training Acc:  0.8643410852713178\n",
      "Validation Acc:  0.838351822503962\n",
      "Testing Acc:  1.0\n",
      "\n",
      "===Exp No. 33===\n",
      "\n",
      "Test Subject R055:\n",
      "VFI-1: [14]\n",
      "# of Healthy Samples: 3202\n",
      "# of Fatigued Samples: 3107\n"
     ]
    },
    {
     "name": "stderr",
     "output_type": "stream",
     "text": [
      "Permuting: 100%|██████████| 1000/1000 [00:07<00:00, 125.70it/s]\n"
     ]
    },
    {
     "name": "stdout",
     "output_type": "stream",
     "text": [
      "P value:  0.994\n",
      "Training Acc:  0.8631560408594575\n",
      "Validation Acc:  0.8351822503961965\n",
      "Testing Acc:  0.9938650306748467\n",
      "\n",
      "===Exp No. 34===\n",
      "\n",
      "Test Subject R050:\n",
      "VFI-1: [17]\n",
      "# of Healthy Samples: 3202\n",
      "# of Fatigued Samples: 3105\n"
     ]
    },
    {
     "name": "stderr",
     "output_type": "stream",
     "text": [
      "Permuting: 100%|██████████| 1000/1000 [00:08<00:00, 118.38it/s]\n"
     ]
    },
    {
     "name": "stdout",
     "output_type": "stream",
     "text": [
      "P value:  0.998\n",
      "Training Acc:  0.8756166314305849\n",
      "Validation Acc:  0.8510301109350238\n",
      "Testing Acc:  0.45454545454545453\n",
      "\n",
      "===Exp No. 35===\n",
      "\n",
      "Test Subject R063:\n",
      "VFI-1: [23]\n",
      "# of Healthy Samples: 3202\n",
      "# of Fatigued Samples: 3108\n"
     ]
    },
    {
     "name": "stderr",
     "output_type": "stream",
     "text": [
      "Permuting: 100%|██████████| 1000/1000 [00:08<00:00, 116.29it/s]\n"
     ]
    },
    {
     "name": "stdout",
     "output_type": "stream",
     "text": [
      "P value:  0.991\n",
      "Training Acc:  0.8740975523859834\n",
      "Validation Acc:  0.8478605388272583\n",
      "Testing Acc:  0.7222222222222222\n",
      "\n",
      "===Exp No. 36===\n",
      "\n",
      "Test Subject R056:\n",
      "VFI-1: [28]\n",
      "# of Healthy Samples: 3202\n",
      "# of Fatigued Samples: 3105\n"
     ]
    },
    {
     "name": "stderr",
     "output_type": "stream",
     "text": [
      "Permuting: 100%|██████████| 1000/1000 [00:08<00:00, 121.09it/s]\n"
     ]
    },
    {
     "name": "stdout",
     "output_type": "stream",
     "text": [
      "P value:  0.99\n",
      "Training Acc:  0.859584214235377\n",
      "Validation Acc:  0.838351822503962\n",
      "Testing Acc:  1.0\n",
      "\n",
      "===Exp No. 37===\n",
      "\n",
      "Test Subject R059:\n",
      "VFI-1: [20]\n",
      "# of Healthy Samples: 3202\n",
      "# of Fatigued Samples: 3105\n"
     ]
    },
    {
     "name": "stderr",
     "output_type": "stream",
     "text": [
      "Permuting: 100%|██████████| 1000/1000 [00:08<00:00, 122.00it/s]\n"
     ]
    },
    {
     "name": "stdout",
     "output_type": "stream",
     "text": [
      "P value:  1.0\n",
      "Training Acc:  0.8652219873150105\n",
      "Validation Acc:  0.838351822503962\n",
      "Testing Acc:  0.9575757575757575\n",
      "\n",
      "===Exp No. 38===\n",
      "\n",
      "Test Subject R069:\n",
      "VFI-1: [11]\n",
      "# of Healthy Samples: 3202\n",
      "# of Fatigued Samples: 3108\n"
     ]
    },
    {
     "name": "stderr",
     "output_type": "stream",
     "text": [
      "Permuting: 100%|██████████| 1000/1000 [00:08<00:00, 121.75it/s]\n"
     ]
    },
    {
     "name": "stdout",
     "output_type": "stream",
     "text": [
      "P value:  0.832\n",
      "Training Acc:  0.8674062334918119\n",
      "Validation Acc:  0.8462757527733756\n",
      "Testing Acc:  0.42592592592592593\n",
      "\n",
      "===Exp No. 39===\n",
      "\n",
      "Test Subject R046:\n",
      "VFI-1: [18]\n",
      "# of Healthy Samples: 3202\n",
      "# of Fatigued Samples: 3106\n"
     ]
    },
    {
     "name": "stderr",
     "output_type": "stream",
     "text": [
      "Permuting: 100%|██████████| 1000/1000 [00:07<00:00, 128.22it/s]\n"
     ]
    },
    {
     "name": "stdout",
     "output_type": "stream",
     "text": [
      "P value:  0.998\n",
      "Training Acc:  0.8740531971111503\n",
      "Validation Acc:  0.8399366085578447\n",
      "Testing Acc:  0.524390243902439\n",
      "\n",
      "===Exp No. 40===\n",
      "\n",
      "Test Subject R049:\n",
      "VFI-1: [28]\n",
      "# of Healthy Samples: 3202\n",
      "# of Fatigued Samples: 3106\n"
     ]
    },
    {
     "name": "stderr",
     "output_type": "stream",
     "text": [
      "Permuting: 100%|██████████| 1000/1000 [00:07<00:00, 125.13it/s]"
     ]
    },
    {
     "name": "stdout",
     "output_type": "stream",
     "text": [
      "P value:  0.993\n",
      "Training Acc:  0.8761669896071869\n",
      "Validation Acc:  0.8415213946117274\n",
      "Testing Acc:  0.4024390243902439\n"
     ]
    },
    {
     "name": "stderr",
     "output_type": "stream",
     "text": [
      "\n"
     ]
    }
   ],
   "source": [
    "leftout = 1\n",
    "testing_acc  = np.zeros(40)\n",
    "valid_acc    = np.zeros(40)\n",
    "training_acc = np.zeros(40)\n",
    "p_value      = np.zeros(40)\n",
    "\n",
    "sub_index = [1]\n",
    "for sub_test in range(40):\n",
    "    print('\\n===Exp No. %d===\\n'%(sub_test+1))\n",
    "    \n",
    "    sub_id = SUBJECT_ID[sub_test][0][0]\n",
    "    sub_txt = \"R%03d\"%(int(sub_id))\n",
    "    print('Test Subject %s:'%(sub_txt))\n",
    "    print('VFI-1:', (VFI_1[sub_test][0][0]))\n",
    "    if int(VFI_1[sub_test][0][0]) > 10:\n",
    "        sub_group = 'Fatigued'\n",
    "    else:\n",
    "        sub_group = 'Healthy'\n",
    "\n",
    "    # ===== Load Testing Signals =====\n",
    "#     num_signal = np.shape(FEAT_N[sub_test,0])[0]    \n",
    "#     X_Temp = FEAT_N[sub_test,0]\n",
    "#     Y_Temp = LABEL[sub_test,0].flatten()\n",
    "\n",
    "#     num_leftout = round(leftout*num_signal)\n",
    "#     index_leftout = np.random.choice(range(num_signal), size=num_leftout, replace=False)\n",
    "#     print(\"Left-out Test samples: \", index_leftout.size)\n",
    "\n",
    "#     X_Test = X_Temp[index_leftout,:]\n",
    "#     Y_Test = Y_Temp[index_leftout]\n",
    "\n",
    "#     index_include = np.arange(num_signal)\n",
    "#     index_include = np.delete(index_include, index_leftout)\n",
    "#     print(\"Included Training samples: \", index_include.size)\n",
    "#     X_include = X_Temp[index_include,:]\n",
    "#     Y_include = Y_Temp[index_include]\n",
    "    \n",
    "    X_Test = feature_G[np.ravel(subject_id == sub_id),:]\n",
    "    Y_Test = label_all[np.ravel(subject_id == sub_id),:]\n",
    "\n",
    "    # ===== Load Traing Signals =====\n",
    "    X_TV = np.zeros((0,48))\n",
    "    Y_TV = np.zeros(0)    \n",
    "    C_TV = np.zeros(0)\n",
    "    for sub_train in range(40):\n",
    "        if sub_train != sub_test:\n",
    "            sub_id = SUBJECT_ID[sub_train][0][0]\n",
    "#             x_s = FEAT_N[sub_train,0]\n",
    "#             y_s = LABEL[sub_train,0].flatten()\n",
    "#             c_s = np.mean(np.mean(SUBJECT_SKINFOLD[sub_train,:]), axis=1)\n",
    "            x_s = feature_G[np.ravel(subject_id == sub_id),:]\n",
    "            y_s = label_all[np.ravel(subject_id == sub_id),:].flatten()\n",
    "            c_s = skinfold_avg[np.ravel(subject_id == sub_id)]\n",
    "        \n",
    "            # ===== CAN BE CONVERTED INTO A FUNCTION =====\n",
    "            X_TV = np.concatenate((X_TV, x_s), axis=0)\n",
    "            Y_TV = np.concatenate((Y_TV, y_s), axis=0)\n",
    "            C_TV = np.concatenate((C_TV, c_s), axis=0)       \n",
    "\n",
    "    print('# of Healthy Samples: %d'%(np.sum(Y_TV == -1)))\n",
    "    print('# of Fatigued Samples: %d'%(np.sum(Y_TV == 1)))    \n",
    "\n",
    "    # ===== Data loading and preprocessing =====\n",
    "    # Training and Validation\n",
    "    # Training and Validation\n",
    "    X_Train, X_Valid, YC_Train, YC_Valid = train_test_split(X_TV, \n",
    "                                                            np.transpose([Y_TV, C_TV]), \n",
    "                                                            test_size=0.1, \n",
    "                                                            random_state=42)\n",
    "    Y_Train, C_Train = YC_Train[:,0], YC_Train[:,1]\n",
    "    Y_Valid, C_Valid = YC_Valid[:,0], YC_Valid[:,1]    \n",
    "    \n",
    "    clf = LinearSVC(class_weight='balanced', max_iter=1000, tol=0.0001) \n",
    "    clf.fit(X_Train, Y_Train)\n",
    "    \n",
    "    label_predict = clf.predict(X_Train)    \n",
    "    ret = partial_confound_test(Y_Train, label_predict, C_Train, progress=True)  \n",
    "    print('P value: ', ret.p)\n",
    "    p_value[sub_test] = ret.p\n",
    "    \n",
    "    print('Training Acc: ', accuracy_score(label_predict, Y_Train))\n",
    "    training_acc[sub_test] = accuracy_score(label_predict, Y_Train)\n",
    "\n",
    "    label_predict = clf.predict(X_Valid)\n",
    "    print('Validation Acc: ', accuracy_score(label_predict, Y_Valid))\n",
    "    valid_acc[sub_test] = accuracy_score(label_predict, Y_Valid)\n",
    "\n",
    "    label_predict = clf.predict(X_Test)\n",
    "    print('Testing Acc: ', accuracy_score(label_predict, Y_Test))\n",
    "    testing_acc[sub_test] = accuracy_score(label_predict, Y_Test)"
   ]
  },
  {
   "cell_type": "code",
   "execution_count": 8,
   "id": "80658c5b",
   "metadata": {},
   "outputs": [
    {
     "data": {
      "text/plain": [
       "0.8694922945476826"
      ]
     },
     "execution_count": 8,
     "metadata": {},
     "output_type": "execute_result"
    }
   ],
   "source": [
    "np.mean(training_acc)"
   ]
  },
  {
   "cell_type": "code",
   "execution_count": 9,
   "id": "76fc99ea",
   "metadata": {},
   "outputs": [
    {
     "data": {
      "text/plain": [
       "0.8479690825795142"
      ]
     },
     "execution_count": 9,
     "metadata": {},
     "output_type": "execute_result"
    }
   ],
   "source": [
    "np.mean(valid_acc)"
   ]
  },
  {
   "cell_type": "code",
   "execution_count": 10,
   "id": "258c3c02",
   "metadata": {},
   "outputs": [
    {
     "data": {
      "text/plain": [
       "0.6339012581825741"
      ]
     },
     "execution_count": 10,
     "metadata": {},
     "output_type": "execute_result"
    }
   ],
   "source": [
    "np.mean(testing_acc)"
   ]
  },
  {
   "cell_type": "code",
   "execution_count": 11,
   "id": "8b04cad1",
   "metadata": {},
   "outputs": [
    {
     "data": {
      "text/plain": [
       "0.9252750000000001"
      ]
     },
     "execution_count": 11,
     "metadata": {},
     "output_type": "execute_result"
    }
   ],
   "source": [
    "np.mean(p_value)"
   ]
  },
  {
   "cell_type": "code",
   "execution_count": 12,
   "id": "3daeec1f",
   "metadata": {},
   "outputs": [
    {
     "name": "stdout",
     "output_type": "stream",
     "text": [
      "       Train     Valid      Test  P-Value\n",
      "0   0.875793  0.882726  0.242424    0.994\n",
      "1   0.872820  0.873217  0.371951    0.931\n",
      "2   0.866279  0.870048  0.781818    0.997\n",
      "3   0.876387  0.884311  0.240741    0.213\n",
      "4   0.861948  0.857369  0.993827    0.999\n",
      "5   0.867865  0.865293  0.612121    0.723\n",
      "6   0.878478  0.871632  0.239264    0.994\n",
      "7   0.864300  0.870458  1.000000    0.998\n",
      "8   0.873525  0.852615  0.542683    0.987\n",
      "9   0.874075  0.852615  0.411043    0.974\n",
      "10  0.867007  0.844691  0.993902    0.995\n",
      "11  0.870292  0.859177  0.291139    0.999\n",
      "12  0.864693  0.849445  0.806061    0.971\n",
      "13  0.867254  0.832278  1.000000    0.997\n",
      "14  0.866103  0.836767  0.981818    0.934\n",
      "15  0.865622  0.830428  0.987730    0.967\n",
      "16  0.864341  0.852615  0.769697    0.902\n",
      "17  0.866103  0.839937  0.763636    0.924\n",
      "18  0.871212  0.833597  0.284848    0.902\n",
      "19  0.863779  0.857143  0.990826    0.997\n",
      "20  0.864627  0.835443  0.453947    1.000\n",
      "21  0.868041  0.836767  0.581818    0.976\n",
      "22  0.889183  0.866878  0.078788    1.000\n",
      "23  0.864789  0.849684  0.518750    0.975\n",
      "24  0.868769  0.819334  0.378049    0.946\n",
      "25  0.884622  0.835182  0.103659    0.000\n",
      "26  0.863460  0.832013  0.939394    1.000\n",
      "27  0.865574  0.835182  0.993939    0.967\n",
      "28  0.871036  0.836767  0.660606    1.000\n",
      "29  0.868922  0.839937  0.672727    0.997\n",
      "30  0.873150  0.838352  0.187879    1.000\n",
      "31  0.864341  0.838352  1.000000    0.956\n",
      "32  0.863156  0.835182  0.993865    0.994\n",
      "33  0.875617  0.851030  0.454545    0.998\n",
      "34  0.874098  0.847861  0.722222    0.991\n",
      "35  0.859584  0.838352  1.000000    0.990\n",
      "36  0.865222  0.838352  0.957576    1.000\n",
      "37  0.867406  0.846276  0.425926    0.832\n",
      "38  0.874053  0.839937  0.524390    0.998\n",
      "39  0.876167  0.841521  0.402439    0.993\n"
     ]
    }
   ],
   "source": [
    "import pandas as pd\n",
    "\n",
    "data_array = np.array([training_acc, valid_acc, testing_acc, p_value]).T\n",
    "df = pd.DataFrame(data_array, columns = ['Train', 'Valid', 'Test', 'P-Value'])\n",
    "print(df)"
   ]
  },
  {
   "cell_type": "code",
   "execution_count": 14,
   "id": "c95ecedb",
   "metadata": {},
   "outputs": [
    {
     "data": {
      "text/plain": [
       "Train      0.869492\n",
       "Valid      0.847969\n",
       "Test       0.633901\n",
       "P-Value    0.925275\n",
       "dtype: float64"
      ]
     },
     "execution_count": 14,
     "metadata": {},
     "output_type": "execute_result"
    }
   ],
   "source": [
    "df.mean(axis=0)"
   ]
  },
  {
   "cell_type": "code",
   "execution_count": 13,
   "id": "5385c3dd",
   "metadata": {},
   "outputs": [],
   "source": [
    "df.to_csv('Linear_SVM_Gram-Schmidt_LOO.csv')"
   ]
  },
  {
   "cell_type": "code",
   "execution_count": null,
   "id": "f1d644bb",
   "metadata": {},
   "outputs": [],
   "source": []
  }
 ],
 "metadata": {
  "kernelspec": {
   "display_name": "Python 3",
   "language": "python",
   "name": "python3"
  },
  "language_info": {
   "codemirror_mode": {
    "name": "ipython",
    "version": 3
   },
   "file_extension": ".py",
   "mimetype": "text/x-python",
   "name": "python",
   "nbconvert_exporter": "python",
   "pygments_lexer": "ipython3",
   "version": "3.7.12"
  }
 },
 "nbformat": 4,
 "nbformat_minor": 5
}
