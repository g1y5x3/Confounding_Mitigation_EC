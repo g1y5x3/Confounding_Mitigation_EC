{
 "cells": [
  {
   "cell_type": "code",
   "execution_count": 1,
   "id": "1fb6c7c5",
   "metadata": {},
   "outputs": [],
   "source": [
    "import pygad\n",
    "import scipy.io as sio\n",
    "import numpy as np\n",
    "import matplotlib.pyplot as plt\n",
    "\n",
    "from sklearn.svm import LinearSVC, SVC\n",
    "from sklearn.metrics import accuracy_score\n",
    "from mlconfound.stats import partial_confound_test\n",
    "from mlconfound.plot import plot_null_dist, plot_graph\n",
    "from sklearn.model_selection import train_test_split"
   ]
  },
  {
   "cell_type": "code",
   "execution_count": 2,
   "id": "768d6c80",
   "metadata": {},
   "outputs": [
    {
     "data": {
      "text/plain": [
       "dict_keys(['__header__', '__version__', '__globals__', 'DATA', 'FEAT', 'FEAT_N', 'LABEL', 'LABEL_VOWEL', 'SUBJECT_ID', 'SUBJECT_SKINFOLD', 'SUBJECT_VFI', 'VOWEL_REP'])"
      ]
     },
     "execution_count": 2,
     "metadata": {},
     "output_type": "execute_result"
    }
   ],
   "source": [
    "DATA_ALL = sio.loadmat(\"subjects_40_v6.mat\")\n",
    "DATA_ALL.keys()"
   ]
  },
  {
   "cell_type": "code",
   "execution_count": 3,
   "id": "3e5ea0c2",
   "metadata": {},
   "outputs": [],
   "source": [
    "FEAT_N           = DATA_ALL['FEAT_N']            # Normalized features\n",
    "LABEL            = DATA_ALL['LABEL']             # Labels\n",
    "VFI_1            = DATA_ALL['SUBJECT_VFI']\n",
    "SUBJECT_ID       = DATA_ALL['SUBJECT_ID']        # Sujbect ID\n",
    "SUBJECT_SKINFOLD = DATA_ALL['SUBJECT_SKINFOLD']"
   ]
  },
  {
   "cell_type": "code",
   "execution_count": 14,
   "id": "fb87d434",
   "metadata": {
    "scrolled": false
   },
   "outputs": [
    {
     "name": "stdout",
     "output_type": "stream",
     "text": [
      "\n",
      "===Exp No. 1===\n",
      "\n",
      "Test Subject R044:\n",
      "VFI-1: [0]\n",
      "Left-out Test samples:  165\n",
      "Included Training samples:  0\n",
      "# of Healthy Samples: 3037\n",
      "# of Fatigued Samples: 3270\n"
     ]
    },
    {
     "name": "stderr",
     "output_type": "stream",
     "text": [
      "/home/iris/yg5d6/.conda/envs/tsai/lib/python3.7/site-packages/sklearn/svm/_base.py:1208: ConvergenceWarning: Liblinear failed to converge, increase the number of iterations.\n",
      "  ConvergenceWarning,\n",
      "Permuting: 100%|██████████| 1000/1000 [00:08<00:00, 113.55it/s]\n"
     ]
    },
    {
     "name": "stdout",
     "output_type": "stream",
     "text": [
      "P value:  0.106\n",
      "Training Acc:  0.8893587033121917\n",
      "Validation Acc:  0.9049128367670365\n",
      "Testing Acc:  0.3696969696969697\n",
      "\n",
      "===Exp No. 2===\n",
      "\n",
      "Test Subject R041:\n",
      "VFI-1: [2]\n",
      "Left-out Test samples:  164\n",
      "Included Training samples:  0\n",
      "# of Healthy Samples: 3038\n",
      "# of Fatigued Samples: 3270\n"
     ]
    },
    {
     "name": "stderr",
     "output_type": "stream",
     "text": [
      "/home/iris/yg5d6/.conda/envs/tsai/lib/python3.7/site-packages/sklearn/svm/_base.py:1208: ConvergenceWarning: Liblinear failed to converge, increase the number of iterations.\n",
      "  ConvergenceWarning,\n",
      "Permuting: 100%|██████████| 1000/1000 [00:07<00:00, 134.52it/s]\n"
     ]
    },
    {
     "name": "stdout",
     "output_type": "stream",
     "text": [
      "P value:  0.003\n",
      "Training Acc:  0.8897304914567553\n",
      "Validation Acc:  0.8795562599049128\n",
      "Testing Acc:  0.22560975609756098\n",
      "\n",
      "===Exp No. 3===\n",
      "\n",
      "Test Subject R081:\n",
      "VFI-1: [0]\n",
      "Left-out Test samples:  165\n",
      "Included Training samples:  0\n",
      "# of Healthy Samples: 3037\n",
      "# of Fatigued Samples: 3270\n"
     ]
    },
    {
     "name": "stderr",
     "output_type": "stream",
     "text": [
      "/home/iris/yg5d6/.conda/envs/tsai/lib/python3.7/site-packages/sklearn/svm/_base.py:1208: ConvergenceWarning: Liblinear failed to converge, increase the number of iterations.\n",
      "  ConvergenceWarning,\n",
      "Permuting: 100%|██████████| 1000/1000 [00:07<00:00, 132.30it/s]\n"
     ]
    },
    {
     "name": "stdout",
     "output_type": "stream",
     "text": [
      "P value:  0.125\n",
      "Training Acc:  0.8766737138830162\n",
      "Validation Acc:  0.8906497622820919\n",
      "Testing Acc:  0.8181818181818182\n",
      "\n",
      "===Exp No. 4===\n",
      "\n",
      "Test Subject R085:\n",
      "VFI-1: [1]\n",
      "Left-out Test samples:  162\n",
      "Included Training samples:  0\n",
      "# of Healthy Samples: 3040\n",
      "# of Fatigued Samples: 3270\n"
     ]
    },
    {
     "name": "stderr",
     "output_type": "stream",
     "text": [
      "/home/iris/yg5d6/.conda/envs/tsai/lib/python3.7/site-packages/sklearn/svm/_base.py:1208: ConvergenceWarning: Liblinear failed to converge, increase the number of iterations.\n",
      "  ConvergenceWarning,\n",
      "Permuting: 100%|██████████| 1000/1000 [00:07<00:00, 132.96it/s]\n"
     ]
    },
    {
     "name": "stdout",
     "output_type": "stream",
     "text": [
      "P value:  0.0\n",
      "Training Acc:  0.8834301813699595\n",
      "Validation Acc:  0.9033280507131537\n",
      "Testing Acc:  0.35802469135802467\n",
      "\n",
      "===Exp No. 5===\n",
      "\n",
      "Test Subject R008:\n",
      "VFI-1: [3]\n",
      "Left-out Test samples:  162\n",
      "Included Training samples:  0\n",
      "# of Healthy Samples: 3040\n",
      "# of Fatigued Samples: 3270\n"
     ]
    },
    {
     "name": "stderr",
     "output_type": "stream",
     "text": [
      "/home/iris/yg5d6/.conda/envs/tsai/lib/python3.7/site-packages/sklearn/svm/_base.py:1208: ConvergenceWarning: Liblinear failed to converge, increase the number of iterations.\n",
      "  ConvergenceWarning,\n",
      "Permuting: 100%|██████████| 1000/1000 [00:07<00:00, 133.37it/s]\n"
     ]
    },
    {
     "name": "stdout",
     "output_type": "stream",
     "text": [
      "P value:  0.047\n",
      "Training Acc:  0.8753301637612255\n",
      "Validation Acc:  0.8969889064976229\n",
      "Testing Acc:  0.9938271604938271\n",
      "\n",
      "===Exp No. 6===\n",
      "\n",
      "Test Subject R024:\n",
      "VFI-1: [4]\n",
      "Left-out Test samples:  165\n",
      "Included Training samples:  0\n",
      "# of Healthy Samples: 3037\n",
      "# of Fatigued Samples: 3270\n"
     ]
    },
    {
     "name": "stderr",
     "output_type": "stream",
     "text": [
      "/home/iris/yg5d6/.conda/envs/tsai/lib/python3.7/site-packages/sklearn/svm/_base.py:1208: ConvergenceWarning: Liblinear failed to converge, increase the number of iterations.\n",
      "  ConvergenceWarning,\n",
      "Permuting: 100%|██████████| 1000/1000 [00:07<00:00, 125.46it/s]\n"
     ]
    },
    {
     "name": "stdout",
     "output_type": "stream",
     "text": [
      "P value:  0.001\n",
      "Training Acc:  0.8798449612403101\n",
      "Validation Acc:  0.8763866877971473\n",
      "Testing Acc:  0.8484848484848485\n",
      "\n",
      "===Exp No. 7===\n",
      "\n",
      "Test Subject R034:\n",
      "VFI-1: [0]\n",
      "Left-out Test samples:  163\n",
      "Included Training samples:  0\n",
      "# of Healthy Samples: 3039\n",
      "# of Fatigued Samples: 3270\n"
     ]
    },
    {
     "name": "stderr",
     "output_type": "stream",
     "text": [
      "/home/iris/yg5d6/.conda/envs/tsai/lib/python3.7/site-packages/sklearn/svm/_base.py:1208: ConvergenceWarning: Liblinear failed to converge, increase the number of iterations.\n",
      "  ConvergenceWarning,\n",
      "Permuting: 100%|██████████| 1000/1000 [00:07<00:00, 126.22it/s]\n"
     ]
    },
    {
     "name": "stdout",
     "output_type": "stream",
     "text": [
      "P value:  0.221\n",
      "Training Acc:  0.8920394505107432\n",
      "Validation Acc:  0.884310618066561\n",
      "Testing Acc:  0.3067484662576687\n",
      "\n",
      "===Exp No. 8===\n",
      "\n",
      "Test Subject R029:\n",
      "VFI-1: [1]\n",
      "Left-out Test samples:  150\n",
      "Included Training samples:  0\n",
      "# of Healthy Samples: 3052\n",
      "# of Fatigued Samples: 3270\n"
     ]
    },
    {
     "name": "stderr",
     "output_type": "stream",
     "text": [
      "/home/iris/yg5d6/.conda/envs/tsai/lib/python3.7/site-packages/sklearn/svm/_base.py:1208: ConvergenceWarning: Liblinear failed to converge, increase the number of iterations.\n",
      "  ConvergenceWarning,\n",
      "Permuting: 100%|██████████| 1000/1000 [00:07<00:00, 129.25it/s]\n"
     ]
    },
    {
     "name": "stdout",
     "output_type": "stream",
     "text": [
      "P value:  0.182\n",
      "Training Acc:  0.8774828616628582\n",
      "Validation Acc:  0.8862559241706162\n",
      "Testing Acc:  1.0\n",
      "\n",
      "===Exp No. 9===\n",
      "\n",
      "Test Subject R052:\n",
      "VFI-1: [1]\n",
      "Left-out Test samples:  164\n",
      "Included Training samples:  0\n",
      "# of Healthy Samples: 3038\n",
      "# of Fatigued Samples: 3270\n"
     ]
    },
    {
     "name": "stderr",
     "output_type": "stream",
     "text": [
      "/home/iris/yg5d6/.conda/envs/tsai/lib/python3.7/site-packages/sklearn/svm/_base.py:1208: ConvergenceWarning: Liblinear failed to converge, increase the number of iterations.\n",
      "  ConvergenceWarning,\n",
      "Permuting: 100%|██████████| 1000/1000 [00:07<00:00, 131.96it/s]\n"
     ]
    },
    {
     "name": "stdout",
     "output_type": "stream",
     "text": [
      "P value:  0.004\n",
      "Training Acc:  0.8937819270741589\n",
      "Validation Acc:  0.8716323296354992\n",
      "Testing Acc:  0.4268292682926829\n",
      "\n",
      "===Exp No. 10===\n",
      "\n",
      "Test Subject R039:\n",
      "VFI-1: [4]\n",
      "Left-out Test samples:  163\n",
      "Included Training samples:  0\n",
      "# of Healthy Samples: 3039\n",
      "# of Fatigued Samples: 3270\n"
     ]
    },
    {
     "name": "stderr",
     "output_type": "stream",
     "text": [
      "/home/iris/yg5d6/.conda/envs/tsai/lib/python3.7/site-packages/sklearn/svm/_base.py:1208: ConvergenceWarning: Liblinear failed to converge, increase the number of iterations.\n",
      "  ConvergenceWarning,\n",
      "Permuting: 100%|██████████| 1000/1000 [00:07<00:00, 127.49it/s]\n"
     ]
    },
    {
     "name": "stdout",
     "output_type": "stream",
     "text": [
      "P value:  0.051\n",
      "Training Acc:  0.8927439239168722\n",
      "Validation Acc:  0.8748019017432647\n",
      "Testing Acc:  0.39263803680981596\n",
      "\n",
      "===Exp No. 11===\n",
      "\n",
      "Test Subject R088:\n",
      "VFI-1: [4]\n",
      "Left-out Test samples:  164\n",
      "Included Training samples:  0\n",
      "# of Healthy Samples: 3038\n",
      "# of Fatigued Samples: 3270\n"
     ]
    },
    {
     "name": "stderr",
     "output_type": "stream",
     "text": [
      "/home/iris/yg5d6/.conda/envs/tsai/lib/python3.7/site-packages/sklearn/svm/_base.py:1208: ConvergenceWarning: Liblinear failed to converge, increase the number of iterations.\n",
      "  ConvergenceWarning,\n",
      "Permuting: 100%|██████████| 1000/1000 [00:07<00:00, 130.35it/s]\n"
     ]
    },
    {
     "name": "stdout",
     "output_type": "stream",
     "text": [
      "P value:  0.217\n",
      "Training Acc:  0.8782807821032236\n",
      "Validation Acc:  0.8637083993660856\n",
      "Testing Acc:  1.0\n",
      "\n",
      "===Exp No. 12===\n",
      "\n",
      "Test Subject R092:\n",
      "VFI-1: [4]\n",
      "Left-out Test samples:  158\n",
      "Included Training samples:  0\n",
      "# of Healthy Samples: 3044\n",
      "# of Fatigued Samples: 3270\n"
     ]
    },
    {
     "name": "stderr",
     "output_type": "stream",
     "text": [
      "/home/iris/yg5d6/.conda/envs/tsai/lib/python3.7/site-packages/sklearn/svm/_base.py:1208: ConvergenceWarning: Liblinear failed to converge, increase the number of iterations.\n",
      "  ConvergenceWarning,\n",
      "Permuting: 100%|██████████| 1000/1000 [00:13<00:00, 75.84it/s]\n"
     ]
    },
    {
     "name": "stdout",
     "output_type": "stream",
     "text": [
      "P value:  0.463\n",
      "Training Acc:  0.8975712777191129\n",
      "Validation Acc:  0.8860759493670886\n",
      "Testing Acc:  0.0\n",
      "\n",
      "===Exp No. 13===\n",
      "\n",
      "Test Subject R016:\n",
      "VFI-1: [4]\n",
      "Left-out Test samples:  165\n",
      "Included Training samples:  0\n",
      "# of Healthy Samples: 3037\n",
      "# of Fatigued Samples: 3270\n"
     ]
    },
    {
     "name": "stderr",
     "output_type": "stream",
     "text": [
      "/home/iris/yg5d6/.conda/envs/tsai/lib/python3.7/site-packages/sklearn/svm/_base.py:1208: ConvergenceWarning: Liblinear failed to converge, increase the number of iterations.\n",
      "  ConvergenceWarning,\n",
      "Permuting: 100%|██████████| 1000/1000 [00:15<00:00, 65.07it/s]\n"
     ]
    },
    {
     "name": "stdout",
     "output_type": "stream",
     "text": [
      "P value:  0.072\n",
      "Training Acc:  0.8780831571529246\n",
      "Validation Acc:  0.8684627575277337\n",
      "Testing Acc:  0.9939393939393939\n",
      "\n",
      "===Exp No. 14===\n",
      "\n",
      "Test Subject R002:\n",
      "VFI-1: [0]\n",
      "Left-out Test samples:  160\n",
      "Included Training samples:  0\n",
      "# of Healthy Samples: 3042\n",
      "# of Fatigued Samples: 3270\n"
     ]
    },
    {
     "name": "stderr",
     "output_type": "stream",
     "text": [
      "/home/iris/yg5d6/.conda/envs/tsai/lib/python3.7/site-packages/sklearn/svm/_base.py:1208: ConvergenceWarning: Liblinear failed to converge, increase the number of iterations.\n",
      "  ConvergenceWarning,\n",
      "Permuting: 100%|██████████| 1000/1000 [00:15<00:00, 64.43it/s]\n"
     ]
    },
    {
     "name": "stdout",
     "output_type": "stream",
     "text": [
      "P value:  0.079\n",
      "Training Acc:  0.8788732394366198\n",
      "Validation Acc:  0.8591772151898734\n",
      "Testing Acc:  1.0\n",
      "\n",
      "===Exp No. 15===\n",
      "\n",
      "Test Subject R084:\n",
      "VFI-1: [1]\n",
      "Left-out Test samples:  165\n",
      "Included Training samples:  0\n",
      "# of Healthy Samples: 3037\n",
      "# of Fatigued Samples: 3270\n"
     ]
    },
    {
     "name": "stderr",
     "output_type": "stream",
     "text": [
      "/home/iris/yg5d6/.conda/envs/tsai/lib/python3.7/site-packages/sklearn/svm/_base.py:1208: ConvergenceWarning: Liblinear failed to converge, increase the number of iterations.\n",
      "  ConvergenceWarning,\n",
      "Permuting: 100%|██████████| 1000/1000 [00:14<00:00, 71.04it/s]\n"
     ]
    },
    {
     "name": "stdout",
     "output_type": "stream",
     "text": [
      "P value:  0.014\n",
      "Training Acc:  0.8793164200140944\n",
      "Validation Acc:  0.8684627575277337\n",
      "Testing Acc:  1.0\n",
      "\n",
      "===Exp No. 16===\n",
      "\n",
      "Test Subject R040:\n",
      "VFI-1: [4]\n",
      "Left-out Test samples:  163\n",
      "Included Training samples:  0\n",
      "# of Healthy Samples: 3039\n",
      "# of Fatigued Samples: 3270\n"
     ]
    },
    {
     "name": "stderr",
     "output_type": "stream",
     "text": [
      "/home/iris/yg5d6/.conda/envs/tsai/lib/python3.7/site-packages/sklearn/svm/_base.py:1208: ConvergenceWarning: Liblinear failed to converge, increase the number of iterations.\n",
      "  ConvergenceWarning,\n",
      "Permuting: 100%|██████████| 1000/1000 [00:14<00:00, 68.02it/s]\n"
     ]
    },
    {
     "name": "stdout",
     "output_type": "stream",
     "text": [
      "P value:  0.019\n",
      "Training Acc:  0.8820007044734062\n",
      "Validation Acc:  0.8510301109350238\n",
      "Testing Acc:  1.0\n",
      "\n",
      "===Exp No. 17===\n",
      "\n",
      "Test Subject R037:\n",
      "VFI-1: [0]\n",
      "Left-out Test samples:  165\n",
      "Included Training samples:  0\n",
      "# of Healthy Samples: 3037\n",
      "# of Fatigued Samples: 3270\n"
     ]
    },
    {
     "name": "stderr",
     "output_type": "stream",
     "text": [
      "/home/iris/yg5d6/.conda/envs/tsai/lib/python3.7/site-packages/sklearn/svm/_base.py:1208: ConvergenceWarning: Liblinear failed to converge, increase the number of iterations.\n",
      "  ConvergenceWarning,\n",
      "Permuting: 100%|██████████| 1000/1000 [00:14<00:00, 67.14it/s]\n"
     ]
    },
    {
     "name": "stdout",
     "output_type": "stream",
     "text": [
      "P value:  0.002\n",
      "Training Acc:  0.881430584918957\n",
      "Validation Acc:  0.8763866877971473\n",
      "Testing Acc:  0.8727272727272727\n",
      "\n",
      "===Exp No. 18===\n",
      "\n",
      "Test Subject R090:\n",
      "VFI-1: [3]\n",
      "Left-out Test samples:  165\n",
      "Included Training samples:  0\n",
      "# of Healthy Samples: 3037\n",
      "# of Fatigued Samples: 3270\n"
     ]
    },
    {
     "name": "stderr",
     "output_type": "stream",
     "text": [
      "/home/iris/yg5d6/.conda/envs/tsai/lib/python3.7/site-packages/sklearn/svm/_base.py:1208: ConvergenceWarning: Liblinear failed to converge, increase the number of iterations.\n",
      "  ConvergenceWarning,\n",
      "Permuting: 100%|██████████| 1000/1000 [00:15<00:00, 63.90it/s]\n"
     ]
    },
    {
     "name": "stdout",
     "output_type": "stream",
     "text": [
      "P value:  0.003\n",
      "Training Acc:  0.8793164200140944\n",
      "Validation Acc:  0.8684627575277337\n",
      "Testing Acc:  0.8\n",
      "\n",
      "===Exp No. 19===\n",
      "\n",
      "Test Subject R061:\n",
      "VFI-1: [2]\n",
      "Left-out Test samples:  165\n",
      "Included Training samples:  0\n",
      "# of Healthy Samples: 3037\n",
      "# of Fatigued Samples: 3270\n"
     ]
    },
    {
     "name": "stderr",
     "output_type": "stream",
     "text": [
      "/home/iris/yg5d6/.conda/envs/tsai/lib/python3.7/site-packages/sklearn/svm/_base.py:1208: ConvergenceWarning: Liblinear failed to converge, increase the number of iterations.\n",
      "  ConvergenceWarning,\n",
      "Permuting: 100%|██████████| 1000/1000 [00:15<00:00, 64.64it/s]\n"
     ]
    },
    {
     "name": "stdout",
     "output_type": "stream",
     "text": [
      "P value:  0.006\n",
      "Training Acc:  0.885306553911205\n",
      "Validation Acc:  0.8795562599049128\n",
      "Testing Acc:  0.04242424242424243\n",
      "\n",
      "===Exp No. 20===\n",
      "\n",
      "Test Subject R010:\n",
      "VFI-1: [4]\n",
      "Left-out Test samples:  109\n",
      "Included Training samples:  0\n",
      "# of Healthy Samples: 3093\n",
      "# of Fatigued Samples: 3270\n"
     ]
    },
    {
     "name": "stderr",
     "output_type": "stream",
     "text": [
      "/home/iris/yg5d6/.conda/envs/tsai/lib/python3.7/site-packages/sklearn/svm/_base.py:1208: ConvergenceWarning: Liblinear failed to converge, increase the number of iterations.\n",
      "  ConvergenceWarning,\n",
      "Permuting: 100%|██████████| 1000/1000 [00:15<00:00, 65.01it/s]\n"
     ]
    },
    {
     "name": "stdout",
     "output_type": "stream",
     "text": [
      "P value:  0.131\n",
      "Training Acc:  0.8786238211666084\n",
      "Validation Acc:  0.8775510204081632\n",
      "Testing Acc:  1.0\n",
      "\n",
      "===Exp No. 21===\n",
      "\n",
      "Test Subject R057:\n",
      "VFI-1: [17]\n",
      "Left-out Test samples:  152\n",
      "Included Training samples:  0\n",
      "# of Healthy Samples: 3202\n",
      "# of Fatigued Samples: 3118\n"
     ]
    },
    {
     "name": "stderr",
     "output_type": "stream",
     "text": [
      "/home/iris/yg5d6/.conda/envs/tsai/lib/python3.7/site-packages/sklearn/svm/_base.py:1208: ConvergenceWarning: Liblinear failed to converge, increase the number of iterations.\n",
      "  ConvergenceWarning,\n",
      "Permuting: 100%|██████████| 1000/1000 [00:15<00:00, 63.51it/s]\n"
     ]
    },
    {
     "name": "stdout",
     "output_type": "stream",
     "text": [
      "P value:  0.387\n",
      "Training Acc:  0.8799226441631505\n",
      "Validation Acc:  0.865506329113924\n",
      "Testing Acc:  0.8947368421052632\n",
      "\n",
      "===Exp No. 22===\n",
      "\n",
      "Test Subject R058:\n",
      "VFI-1: [11]\n",
      "Left-out Test samples:  165\n",
      "Included Training samples:  0\n",
      "# of Healthy Samples: 3202\n",
      "# of Fatigued Samples: 3105\n"
     ]
    },
    {
     "name": "stderr",
     "output_type": "stream",
     "text": [
      "/home/iris/yg5d6/.conda/envs/tsai/lib/python3.7/site-packages/sklearn/svm/_base.py:1208: ConvergenceWarning: Liblinear failed to converge, increase the number of iterations.\n",
      "  ConvergenceWarning,\n",
      "Permuting: 100%|██████████| 1000/1000 [00:15<00:00, 66.49it/s]\n"
     ]
    },
    {
     "name": "stdout",
     "output_type": "stream",
     "text": [
      "P value:  0.0\n",
      "Training Acc:  0.8875968992248062\n",
      "Validation Acc:  0.8652931854199684\n",
      "Testing Acc:  0.6\n",
      "\n",
      "===Exp No. 23===\n",
      "\n",
      "Test Subject R011:\n",
      "VFI-1: [23]\n",
      "Left-out Test samples:  165\n",
      "Included Training samples:  0\n",
      "# of Healthy Samples: 3202\n",
      "# of Fatigued Samples: 3105\n"
     ]
    },
    {
     "name": "stderr",
     "output_type": "stream",
     "text": [
      "/home/iris/yg5d6/.conda/envs/tsai/lib/python3.7/site-packages/sklearn/svm/_base.py:1208: ConvergenceWarning: Liblinear failed to converge, increase the number of iterations.\n",
      "  ConvergenceWarning,\n",
      "Permuting: 100%|██████████| 1000/1000 [00:15<00:00, 66.04it/s]\n"
     ]
    },
    {
     "name": "stdout",
     "output_type": "stream",
     "text": [
      "P value:  0.0\n",
      "Training Acc:  0.9272374911909795\n",
      "Validation Acc:  0.9096671949286846\n",
      "Testing Acc:  0.012121212121212121\n",
      "\n",
      "===Exp No. 24===\n",
      "\n",
      "Test Subject R019:\n",
      "VFI-1: [22]\n",
      "Left-out Test samples:  160\n",
      "Included Training samples:  0\n",
      "# of Healthy Samples: 3202\n",
      "# of Fatigued Samples: 3110\n"
     ]
    },
    {
     "name": "stderr",
     "output_type": "stream",
     "text": [
      "/home/iris/yg5d6/.conda/envs/tsai/lib/python3.7/site-packages/sklearn/svm/_base.py:1208: ConvergenceWarning: Liblinear failed to converge, increase the number of iterations.\n",
      "  ConvergenceWarning,\n",
      "Permuting: 100%|██████████| 1000/1000 [00:14<00:00, 67.39it/s]\n"
     ]
    },
    {
     "name": "stdout",
     "output_type": "stream",
     "text": [
      "P value:  0.01\n",
      "Training Acc:  0.8802816901408451\n",
      "Validation Acc:  0.8575949367088608\n",
      "Testing Acc:  0.58125\n",
      "\n",
      "===Exp No. 25===\n",
      "\n",
      "Test Subject R021:\n",
      "VFI-1: [18]\n",
      "Left-out Test samples:  164\n",
      "Included Training samples:  0\n",
      "# of Healthy Samples: 3202\n",
      "# of Fatigued Samples: 3106\n"
     ]
    },
    {
     "name": "stderr",
     "output_type": "stream",
     "text": [
      "/home/iris/yg5d6/.conda/envs/tsai/lib/python3.7/site-packages/sklearn/svm/_base.py:1208: ConvergenceWarning: Liblinear failed to converge, increase the number of iterations.\n",
      "  ConvergenceWarning,\n",
      "Permuting: 100%|██████████| 1000/1000 [00:14<00:00, 69.04it/s]\n"
     ]
    },
    {
     "name": "stdout",
     "output_type": "stream",
     "text": [
      "P value:  0.188\n",
      "Training Acc:  0.8832129645939757\n",
      "Validation Acc:  0.838351822503962\n",
      "Testing Acc:  0.36585365853658536\n",
      "\n",
      "===Exp No. 26===\n",
      "\n",
      "Test Subject R030:\n",
      "VFI-1: [11]\n",
      "Left-out Test samples:  164\n",
      "Included Training samples:  0\n",
      "# of Healthy Samples: 3202\n",
      "# of Fatigued Samples: 3106\n"
     ]
    },
    {
     "name": "stderr",
     "output_type": "stream",
     "text": [
      "/home/iris/yg5d6/.conda/envs/tsai/lib/python3.7/site-packages/sklearn/svm/_base.py:1208: ConvergenceWarning: Liblinear failed to converge, increase the number of iterations.\n",
      "  ConvergenceWarning,\n",
      "Permuting: 100%|██████████| 1000/1000 [00:14<00:00, 70.65it/s]\n"
     ]
    },
    {
     "name": "stdout",
     "output_type": "stream",
     "text": [
      "P value:  0.0\n",
      "Training Acc:  0.8936057776994891\n",
      "Validation Acc:  0.8637083993660856\n",
      "Testing Acc:  0.06097560975609756\n",
      "\n",
      "===Exp No. 27===\n",
      "\n",
      "Test Subject R032:\n",
      "VFI-1: [11]\n",
      "Left-out Test samples:  165\n",
      "Included Training samples:  0\n",
      "# of Healthy Samples: 3202\n",
      "# of Fatigued Samples: 3105\n"
     ]
    },
    {
     "name": "stderr",
     "output_type": "stream",
     "text": [
      "/home/iris/yg5d6/.conda/envs/tsai/lib/python3.7/site-packages/sklearn/svm/_base.py:1208: ConvergenceWarning: Liblinear failed to converge, increase the number of iterations.\n",
      "  ConvergenceWarning,\n",
      "Permuting: 100%|██████████| 1000/1000 [00:14<00:00, 67.64it/s]\n"
     ]
    },
    {
     "name": "stdout",
     "output_type": "stream",
     "text": [
      "P value:  0.005\n",
      "Training Acc:  0.8787878787878788\n",
      "Validation Acc:  0.8557844690966719\n",
      "Testing Acc:  0.9939393939393939\n",
      "\n",
      "===Exp No. 28===\n",
      "\n",
      "Test Subject R043:\n",
      "VFI-1: [19]\n",
      "Left-out Test samples:  165\n",
      "Included Training samples:  0\n",
      "# of Healthy Samples: 3202\n",
      "# of Fatigued Samples: 3105\n"
     ]
    },
    {
     "name": "stderr",
     "output_type": "stream",
     "text": [
      "/home/iris/yg5d6/.conda/envs/tsai/lib/python3.7/site-packages/sklearn/svm/_base.py:1208: ConvergenceWarning: Liblinear failed to converge, increase the number of iterations.\n",
      "  ConvergenceWarning,\n",
      "Permuting: 100%|██████████| 1000/1000 [00:14<00:00, 70.86it/s]\n"
     ]
    },
    {
     "name": "stdout",
     "output_type": "stream",
     "text": [
      "P value:  0.001\n",
      "Training Acc:  0.8780831571529246\n",
      "Validation Acc:  0.8573692551505546\n",
      "Testing Acc:  0.9878787878787879\n",
      "\n",
      "===Exp No. 29===\n",
      "\n",
      "Test Subject R045:\n",
      "VFI-1: [20]\n",
      "Left-out Test samples:  165\n",
      "Included Training samples:  0\n",
      "# of Healthy Samples: 3202\n",
      "# of Fatigued Samples: 3105\n"
     ]
    },
    {
     "name": "stderr",
     "output_type": "stream",
     "text": [
      "/home/iris/yg5d6/.conda/envs/tsai/lib/python3.7/site-packages/sklearn/svm/_base.py:1208: ConvergenceWarning: Liblinear failed to converge, increase the number of iterations.\n",
      "  ConvergenceWarning,\n",
      "Permuting: 100%|██████████| 1000/1000 [00:13<00:00, 72.55it/s]\n"
     ]
    },
    {
     "name": "stdout",
     "output_type": "stream",
     "text": [
      "P value:  0.075\n",
      "Training Acc:  0.8835447498238196\n",
      "Validation Acc:  0.8557844690966719\n",
      "Testing Acc:  0.8848484848484849\n",
      "\n",
      "===Exp No. 30===\n",
      "\n",
      "Test Subject R047:\n",
      "VFI-1: [24]\n",
      "Left-out Test samples:  165\n",
      "Included Training samples:  0\n",
      "# of Healthy Samples: 3202\n",
      "# of Fatigued Samples: 3105\n"
     ]
    },
    {
     "name": "stderr",
     "output_type": "stream",
     "text": [
      "/home/iris/yg5d6/.conda/envs/tsai/lib/python3.7/site-packages/sklearn/svm/_base.py:1208: ConvergenceWarning: Liblinear failed to converge, increase the number of iterations.\n",
      "  ConvergenceWarning,\n",
      "Permuting: 100%|██████████| 1000/1000 [00:13<00:00, 73.44it/s]\n"
     ]
    },
    {
     "name": "stdout",
     "output_type": "stream",
     "text": [
      "P value:  0.147\n",
      "Training Acc:  0.883016208597604\n",
      "Validation Acc:  0.849445324881141\n",
      "Testing Acc:  0.7090909090909091\n",
      "\n",
      "===Exp No. 31===\n",
      "\n",
      "Test Subject R083:\n",
      "VFI-1: [15]\n",
      "Left-out Test samples:  165\n",
      "Included Training samples:  0\n",
      "# of Healthy Samples: 3202\n",
      "# of Fatigued Samples: 3105\n"
     ]
    },
    {
     "name": "stderr",
     "output_type": "stream",
     "text": [
      "/home/iris/yg5d6/.conda/envs/tsai/lib/python3.7/site-packages/sklearn/svm/_base.py:1208: ConvergenceWarning: Liblinear failed to converge, increase the number of iterations.\n",
      "  ConvergenceWarning,\n",
      "Permuting: 100%|██████████| 1000/1000 [00:14<00:00, 71.39it/s]\n"
     ]
    },
    {
     "name": "stdout",
     "output_type": "stream",
     "text": [
      "P value:  0.038\n",
      "Training Acc:  0.8957011980267794\n",
      "Validation Acc:  0.866877971473851\n",
      "Testing Acc:  0.12121212121212122\n",
      "\n",
      "===Exp No. 32===\n",
      "\n",
      "Test Subject R071:\n",
      "VFI-1: [13]\n",
      "Left-out Test samples:  165\n",
      "Included Training samples:  0\n",
      "# of Healthy Samples: 3202\n",
      "# of Fatigued Samples: 3105\n"
     ]
    },
    {
     "name": "stderr",
     "output_type": "stream",
     "text": [
      "/home/iris/yg5d6/.conda/envs/tsai/lib/python3.7/site-packages/sklearn/svm/_base.py:1208: ConvergenceWarning: Liblinear failed to converge, increase the number of iterations.\n",
      "  ConvergenceWarning,\n",
      "Permuting: 100%|██████████| 1000/1000 [00:13<00:00, 76.10it/s]\n"
     ]
    },
    {
     "name": "stdout",
     "output_type": "stream",
     "text": [
      "P value:  0.0\n",
      "Training Acc:  0.8800211416490487\n",
      "Validation Acc:  0.8605388272583201\n",
      "Testing Acc:  1.0\n",
      "\n",
      "===Exp No. 33===\n",
      "\n",
      "Test Subject R055:\n",
      "VFI-1: [14]\n",
      "Left-out Test samples:  163\n",
      "Included Training samples:  0\n",
      "# of Healthy Samples: 3202\n",
      "# of Fatigued Samples: 3107\n"
     ]
    },
    {
     "name": "stderr",
     "output_type": "stream",
     "text": [
      "/home/iris/yg5d6/.conda/envs/tsai/lib/python3.7/site-packages/sklearn/svm/_base.py:1208: ConvergenceWarning: Liblinear failed to converge, increase the number of iterations.\n",
      "  ConvergenceWarning,\n",
      "Permuting: 100%|██████████| 1000/1000 [00:12<00:00, 78.56it/s]\n"
     ]
    },
    {
     "name": "stdout",
     "output_type": "stream",
     "text": [
      "P value:  0.116\n",
      "Training Acc:  0.8760126805213103\n",
      "Validation Acc:  0.8557844690966719\n",
      "Testing Acc:  0.9938650306748467\n",
      "\n",
      "===Exp No. 34===\n",
      "\n",
      "Test Subject R050:\n",
      "VFI-1: [17]\n",
      "Left-out Test samples:  165\n",
      "Included Training samples:  0\n",
      "# of Healthy Samples: 3202\n",
      "# of Fatigued Samples: 3105\n"
     ]
    },
    {
     "name": "stderr",
     "output_type": "stream",
     "text": [
      "/home/iris/yg5d6/.conda/envs/tsai/lib/python3.7/site-packages/sklearn/svm/_base.py:1208: ConvergenceWarning: Liblinear failed to converge, increase the number of iterations.\n",
      "  ConvergenceWarning,\n",
      "Permuting: 100%|██████████| 1000/1000 [00:15<00:00, 63.87it/s]\n"
     ]
    },
    {
     "name": "stdout",
     "output_type": "stream",
     "text": [
      "P value:  0.022\n",
      "Training Acc:  0.8907681465821\n",
      "Validation Acc:  0.8763866877971473\n",
      "Testing Acc:  0.36363636363636365\n",
      "\n",
      "===Exp No. 35===\n",
      "\n",
      "Test Subject R063:\n",
      "VFI-1: [23]\n",
      "Left-out Test samples:  162\n",
      "Included Training samples:  0\n",
      "# of Healthy Samples: 3202\n",
      "# of Fatigued Samples: 3108\n"
     ]
    },
    {
     "name": "stderr",
     "output_type": "stream",
     "text": [
      "/home/iris/yg5d6/.conda/envs/tsai/lib/python3.7/site-packages/sklearn/svm/_base.py:1208: ConvergenceWarning: Liblinear failed to converge, increase the number of iterations.\n",
      "  ConvergenceWarning,\n",
      "Permuting: 100%|██████████| 1000/1000 [00:14<00:00, 70.13it/s]\n"
     ]
    },
    {
     "name": "stdout",
     "output_type": "stream",
     "text": [
      "P value:  0.012\n",
      "Training Acc:  0.8804366966015144\n",
      "Validation Acc:  0.8748019017432647\n",
      "Testing Acc:  0.8024691358024691\n",
      "\n",
      "===Exp No. 36===\n",
      "\n",
      "Test Subject R056:\n",
      "VFI-1: [28]\n",
      "Left-out Test samples:  165\n",
      "Included Training samples:  0\n",
      "# of Healthy Samples: 3202\n",
      "# of Fatigued Samples: 3105\n"
     ]
    },
    {
     "name": "stderr",
     "output_type": "stream",
     "text": [
      "/home/iris/yg5d6/.conda/envs/tsai/lib/python3.7/site-packages/sklearn/svm/_base.py:1208: ConvergenceWarning: Liblinear failed to converge, increase the number of iterations.\n",
      "  ConvergenceWarning,\n",
      "Permuting: 100%|██████████| 1000/1000 [00:14<00:00, 69.43it/s]\n"
     ]
    },
    {
     "name": "stdout",
     "output_type": "stream",
     "text": [
      "P value:  0.004\n",
      "Training Acc:  0.8793164200140944\n",
      "Validation Acc:  0.8589540412044374\n",
      "Testing Acc:  1.0\n",
      "\n",
      "===Exp No. 37===\n",
      "\n",
      "Test Subject R059:\n",
      "VFI-1: [20]\n",
      "Left-out Test samples:  165\n",
      "Included Training samples:  0\n",
      "# of Healthy Samples: 3202\n",
      "# of Fatigued Samples: 3105\n"
     ]
    },
    {
     "name": "stderr",
     "output_type": "stream",
     "text": [
      "/home/iris/yg5d6/.conda/envs/tsai/lib/python3.7/site-packages/sklearn/svm/_base.py:1208: ConvergenceWarning: Liblinear failed to converge, increase the number of iterations.\n",
      "  ConvergenceWarning,\n",
      "Permuting: 100%|██████████| 1000/1000 [00:13<00:00, 72.45it/s]\n"
     ]
    },
    {
     "name": "stdout",
     "output_type": "stream",
     "text": [
      "P value:  0.362\n",
      "Training Acc:  0.8809020436927414\n",
      "Validation Acc:  0.8589540412044374\n",
      "Testing Acc:  0.9939393939393939\n",
      "\n",
      "===Exp No. 38===\n",
      "\n",
      "Test Subject R069:\n",
      "VFI-1: [11]\n",
      "Left-out Test samples:  162\n",
      "Included Training samples:  0\n",
      "# of Healthy Samples: 3202\n",
      "# of Fatigued Samples: 3108\n"
     ]
    },
    {
     "name": "stderr",
     "output_type": "stream",
     "text": [
      "/home/iris/yg5d6/.conda/envs/tsai/lib/python3.7/site-packages/sklearn/svm/_base.py:1208: ConvergenceWarning: Liblinear failed to converge, increase the number of iterations.\n",
      "  ConvergenceWarning,\n",
      "Permuting: 100%|██████████| 1000/1000 [00:13<00:00, 73.20it/s]\n"
     ]
    },
    {
     "name": "stdout",
     "output_type": "stream",
     "text": [
      "P value:  0.0\n",
      "Training Acc:  0.8806127839408346\n",
      "Validation Acc:  0.8827258320126783\n",
      "Testing Acc:  0.6234567901234568\n",
      "\n",
      "===Exp No. 39===\n",
      "\n",
      "Test Subject R046:\n",
      "VFI-1: [18]\n",
      "Left-out Test samples:  164\n",
      "Included Training samples:  0\n",
      "# of Healthy Samples: 3202\n",
      "# of Fatigued Samples: 3106\n"
     ]
    },
    {
     "name": "stderr",
     "output_type": "stream",
     "text": [
      "/home/iris/yg5d6/.conda/envs/tsai/lib/python3.7/site-packages/sklearn/svm/_base.py:1208: ConvergenceWarning: Liblinear failed to converge, increase the number of iterations.\n",
      "  ConvergenceWarning,\n",
      "Permuting: 100%|██████████| 1000/1000 [00:12<00:00, 77.07it/s]\n"
     ]
    },
    {
     "name": "stdout",
     "output_type": "stream",
     "text": [
      "P value:  0.006\n",
      "Training Acc:  0.8879689977100581\n",
      "Validation Acc:  0.8621236133122029\n",
      "Testing Acc:  0.6585365853658537\n",
      "\n",
      "===Exp No. 40===\n",
      "\n",
      "Test Subject R049:\n",
      "VFI-1: [28]\n",
      "Left-out Test samples:  164\n",
      "Included Training samples:  0\n",
      "# of Healthy Samples: 3202\n",
      "# of Fatigued Samples: 3106\n"
     ]
    },
    {
     "name": "stderr",
     "output_type": "stream",
     "text": [
      "/home/iris/yg5d6/.conda/envs/tsai/lib/python3.7/site-packages/sklearn/svm/_base.py:1208: ConvergenceWarning: Liblinear failed to converge, increase the number of iterations.\n",
      "  ConvergenceWarning,\n",
      "Permuting: 100%|██████████| 1000/1000 [00:12<00:00, 79.77it/s]"
     ]
    },
    {
     "name": "stdout",
     "output_type": "stream",
     "text": [
      "P value:  0.0\n",
      "Training Acc:  0.8932534789501497\n",
      "Validation Acc:  0.8748019017432647\n",
      "Testing Acc:  0.3780487804878049\n"
     ]
    },
    {
     "name": "stderr",
     "output_type": "stream",
     "text": [
      "\n"
     ]
    }
   ],
   "source": [
    "leftout = 1\n",
    "testing_acc  = np.zeros(40)\n",
    "valid_acc    = np.zeros(40)\n",
    "training_acc = np.zeros(40)\n",
    "p_value      = np.zeros(40)\n",
    "\n",
    "sub_index = [1]\n",
    "for sub_test in range(40):\n",
    "    print('\\n===Exp No. %d===\\n'%(sub_test+1))\n",
    "    \n",
    "    sub_txt = \"R%03d\"%(int(SUBJECT_ID[sub_test][0][0]))\n",
    "    print('Test Subject %s:'%(sub_txt))\n",
    "    print('VFI-1:', (VFI_1[sub_test][0][0]))\n",
    "    if int(VFI_1[sub_test][0][0]) > 10:\n",
    "        sub_group = 'Fatigued'\n",
    "    else:\n",
    "        sub_group = 'Healthy'\n",
    "\n",
    "    # ===== Load Testing Signals =====\n",
    "    num_signal = np.shape(FEAT_N[sub_test,0])[0]    \n",
    "    X_Temp = FEAT_N[sub_test,0]\n",
    "    Y_Temp = LABEL[sub_test,0].flatten()\n",
    "\n",
    "    num_leftout = round(leftout*num_signal)\n",
    "    index_leftout = np.random.choice(range(num_signal), size=num_leftout, replace=False)\n",
    "    print(\"Left-out Test samples: \", index_leftout.size)\n",
    "\n",
    "    X_Test = X_Temp[index_leftout,:]\n",
    "    Y_Test = Y_Temp[index_leftout]\n",
    "\n",
    "    index_include = np.arange(num_signal)\n",
    "    index_include = np.delete(index_include, index_leftout)\n",
    "    print(\"Included Training samples: \", index_include.size)\n",
    "    X_include = X_Temp[index_include,:]\n",
    "    Y_include = Y_Temp[index_include]\n",
    "\n",
    "\n",
    "    # ===== Load Traing Signals =====\n",
    "    X_TV = np.zeros((0,48))\n",
    "    Y_TV = np.zeros(0)    \n",
    "    C_TV = np.zeros(0)\n",
    "    for sub_train in range(40):\n",
    "        if sub_train != sub_test:\n",
    "            x_s = FEAT_N[sub_train,0]\n",
    "            y_s = LABEL[sub_train,0].flatten()\n",
    "            c_s = np.mean(np.mean(SUBJECT_SKINFOLD[sub_train,:]), axis=1)\n",
    "            # ===== CAN BE CONVERTED INTO A FUNCTION =====\n",
    "            X_TV = np.concatenate((X_TV, x_s), axis=0)\n",
    "            Y_TV = np.concatenate((Y_TV, y_s), axis=0)\n",
    "            C_TV = np.concatenate((C_TV, c_s), axis=0)       \n",
    "\n",
    "    print('# of Healthy Samples: %d'%(np.sum(Y_TV == -1)))\n",
    "    print('# of Fatigued Samples: %d'%(np.sum(Y_TV == 1)))    \n",
    "\n",
    "    # ===== Data loading and preprocessing =====\n",
    "    # Training and Validation\n",
    "    # Training and Validation\n",
    "    X_Train, X_Valid, YC_Train, YC_Valid = train_test_split(X_TV, \n",
    "                                                            np.transpose([Y_TV, C_TV]), \n",
    "                                                            test_size=0.1, \n",
    "                                                            random_state=42)\n",
    "    Y_Train, C_Train = YC_Train[:,0], YC_Train[:,1]\n",
    "    Y_Valid, C_Valid = YC_Valid[:,0], YC_Valid[:,1]    \n",
    "    \n",
    "    clf = LinearSVC(class_weight='balanced', max_iter=1000, tol=0.001) \n",
    "    clf.fit(X_Train, Y_Train)\n",
    "    \n",
    "    label_predict = clf.predict(X_Train)    \n",
    "    ret = partial_confound_test(Y_Train, label_predict, C_Train, progress=True)  \n",
    "    print('P value: ', ret.p)\n",
    "    p_value[sub_test] = ret.p\n",
    "    \n",
    "    print('Training Acc: ', accuracy_score(label_predict, Y_Train))\n",
    "    training_acc[sub_test] = accuracy_score(label_predict, Y_Train)\n",
    "\n",
    "    label_predict = clf.predict(X_Valid)\n",
    "    print('Validation Acc: ', accuracy_score(label_predict, Y_Valid))\n",
    "    valid_acc[sub_test] = accuracy_score(label_predict, Y_Valid)\n",
    "\n",
    "    label_predict = clf.predict(X_Test)\n",
    "    print('Testing Acc: ', accuracy_score(label_predict, Y_Test))\n",
    "    testing_acc[sub_test] = accuracy_score(label_predict, Y_Test)"
   ]
  },
  {
   "cell_type": "code",
   "execution_count": 15,
   "id": "80658c5b",
   "metadata": {},
   "outputs": [
    {
     "data": {
      "text/plain": [
       "0.884737559704061"
      ]
     },
     "execution_count": 15,
     "metadata": {},
     "output_type": "execute_result"
    }
   ],
   "source": [
    "np.mean(training_acc)"
   ]
  },
  {
   "cell_type": "code",
   "execution_count": 16,
   "id": "98b68423",
   "metadata": {},
   "outputs": [
    {
     "data": {
      "text/plain": [
       "0.871453796656055"
      ]
     },
     "execution_count": 16,
     "metadata": {},
     "output_type": "execute_result"
    }
   ],
   "source": [
    "np.mean(valid_acc)"
   ]
  },
  {
   "cell_type": "code",
   "execution_count": 17,
   "id": "f60d4388",
   "metadata": {},
   "outputs": [
    {
     "data": {
      "text/plain": [
       "0.6618747756070793"
      ]
     },
     "execution_count": 17,
     "metadata": {},
     "output_type": "execute_result"
    }
   ],
   "source": [
    "np.mean(testing_acc)"
   ]
  },
  {
   "cell_type": "code",
   "execution_count": 18,
   "id": "1eed5679",
   "metadata": {},
   "outputs": [
    {
     "data": {
      "text/plain": [
       "0.07797499999999999"
      ]
     },
     "execution_count": 18,
     "metadata": {},
     "output_type": "execute_result"
    }
   ],
   "source": [
    "np.mean(p_value)"
   ]
  },
  {
   "cell_type": "code",
   "execution_count": 23,
   "id": "36d5b078",
   "metadata": {},
   "outputs": [
    {
     "name": "stdout",
     "output_type": "stream",
     "text": [
      "       Train     Valid      Test  P-Value\n",
      "0   0.889359  0.904913  0.369697    0.106\n",
      "1   0.889730  0.879556  0.225610    0.003\n",
      "2   0.876674  0.890650  0.818182    0.125\n",
      "3   0.883430  0.903328  0.358025    0.000\n",
      "4   0.875330  0.896989  0.993827    0.047\n",
      "5   0.879845  0.876387  0.848485    0.001\n",
      "6   0.892039  0.884311  0.306748    0.221\n",
      "7   0.877483  0.886256  1.000000    0.182\n",
      "8   0.893782  0.871632  0.426829    0.004\n",
      "9   0.892744  0.874802  0.392638    0.051\n",
      "10  0.878281  0.863708  1.000000    0.217\n",
      "11  0.897571  0.886076  0.000000    0.463\n",
      "12  0.878083  0.868463  0.993939    0.072\n",
      "13  0.878873  0.859177  1.000000    0.079\n",
      "14  0.879316  0.868463  1.000000    0.014\n",
      "15  0.882001  0.851030  1.000000    0.019\n",
      "16  0.881431  0.876387  0.872727    0.002\n",
      "17  0.879316  0.868463  0.800000    0.003\n",
      "18  0.885307  0.879556  0.042424    0.006\n",
      "19  0.878624  0.877551  1.000000    0.131\n",
      "20  0.879923  0.865506  0.894737    0.387\n",
      "21  0.887597  0.865293  0.600000    0.000\n",
      "22  0.927237  0.909667  0.012121    0.000\n",
      "23  0.880282  0.857595  0.581250    0.010\n",
      "24  0.883213  0.838352  0.365854    0.188\n",
      "25  0.893606  0.863708  0.060976    0.000\n",
      "26  0.878788  0.855784  0.993939    0.005\n",
      "27  0.878083  0.857369  0.987879    0.001\n",
      "28  0.883545  0.855784  0.884848    0.075\n",
      "29  0.883016  0.849445  0.709091    0.147\n",
      "30  0.895701  0.866878  0.121212    0.038\n",
      "31  0.880021  0.860539  1.000000    0.000\n",
      "32  0.876013  0.855784  0.993865    0.116\n",
      "33  0.890768  0.876387  0.363636    0.022\n",
      "34  0.880437  0.874802  0.802469    0.012\n",
      "35  0.879316  0.858954  1.000000    0.004\n",
      "36  0.880902  0.858954  0.993939    0.362\n",
      "37  0.880613  0.882726  0.623457    0.000\n",
      "38  0.887969  0.862124  0.658537    0.006\n",
      "39  0.893253  0.874802  0.378049    0.000\n"
     ]
    }
   ],
   "source": [
    "import pandas as pd\n",
    "\n",
    "data_array = np.array([training_acc, valid_acc, testing_acc, p_value]).T\n",
    "df = pd.DataFrame(data_array, columns = ['Train', 'Valid', 'Test', 'P-Value'])\n",
    "print(df)"
   ]
  },
  {
   "cell_type": "code",
   "execution_count": 25,
   "id": "b9c792e1",
   "metadata": {},
   "outputs": [
    {
     "data": {
      "text/plain": [
       "Train      0.884738\n",
       "Valid      0.871454\n",
       "Test       0.661875\n",
       "P-Value    0.077975\n",
       "dtype: float64"
      ]
     },
     "execution_count": 25,
     "metadata": {},
     "output_type": "execute_result"
    }
   ],
   "source": [
    "df.mean(axis=0)"
   ]
  },
  {
   "cell_type": "code",
   "execution_count": 24,
   "id": "5cb11a02",
   "metadata": {},
   "outputs": [],
   "source": [
    "df.to_csv('Linear_SVM_LOO.csv')"
   ]
  },
  {
   "cell_type": "code",
   "execution_count": null,
   "id": "344b601f",
   "metadata": {},
   "outputs": [],
   "source": []
  }
 ],
 "metadata": {
  "kernelspec": {
   "display_name": "Python 3",
   "language": "python",
   "name": "python3"
  },
  "language_info": {
   "codemirror_mode": {
    "name": "ipython",
    "version": 3
   },
   "file_extension": ".py",
   "mimetype": "text/x-python",
   "name": "python",
   "nbconvert_exporter": "python",
   "pygments_lexer": "ipython3",
   "version": "3.7.12"
  }
 },
 "nbformat": 4,
 "nbformat_minor": 5
}
