{
 "cells": [
  {
   "cell_type": "code",
   "execution_count": 1,
   "metadata": {},
   "outputs": [],
   "source": [
    "import pandas as pd\n",
    "import numpy as np\n",
    "\n",
    "from sklearn.svm import LinearSVC, SVC\n",
    "from sklearn.metrics import accuracy_score"
   ]
  },
  {
   "cell_type": "code",
   "execution_count": 2,
   "metadata": {},
   "outputs": [],
   "source": [
    "data = pd.read_csv('data/pone.csv')"
   ]
  },
  {
   "cell_type": "code",
   "execution_count": 3,
   "metadata": {},
   "outputs": [],
   "source": [
    "subject_id  = data['PID'].to_numpy()\n",
    "subject_all = data['PID'].unique()\n",
    "num_subject = len(subject_all)"
   ]
  },
  {
   "cell_type": "code",
   "execution_count": 4,
   "metadata": {},
   "outputs": [],
   "source": [
    "x = data[['pcm_intensity_sma_quartile1', \n",
    "          'pcm_loudness_sma_linregerrA',\n",
    "          'pcm_loudness_sma_stddev',\n",
    "          'pcm_loudness_sma_iqr2.3',\n",
    "          'pcm_loudness_sma_iqr1.3',\n",
    "          'mfcc_sma.1._max',\n",
    "          'mfcc_sma.2._max',\n",
    "          'mfcc_sma.2._amean',\n",
    "          'mfcc_sma.5._min',\n",
    "          'mfcc_sma.5._stddev',\n",
    "          'mfcc_sma.5._iqr1.2',\n",
    "          'mfcc_sma.6._min',\n",
    "          'lspFreq_sma.3._amean',\n",
    "          'lspFreq_sma.3._quartile1',\n",
    "          'lspFreq_sma.3._quartile2',\n",
    "          'lspFreq_sma.3._quartile3',\n",
    "          'lspFreq_sma.4._amean',\n",
    "          'lspFreq_sma.4._quartile1',\n",
    "          'lspFreq_sma.4._quartile2',\n",
    "          'lspFreq_sma.5._amean',\n",
    "          'lspFreq_sma.5._quartile1',\n",
    "          'mfcc_sma_de.2._quartile3',\n",
    "          'mfcc_sma_de.2._iqr1.2',\n",
    "          'mfcc_sma_de.2._iqr1.3',\n",
    "          'mfcc_sma_de.3._linregerrA',\n",
    "          'mfcc_sma_de.3._linregerrQ',\n",
    "          'mfcc_sma_de.3._stddev',\n",
    "          'mfcc_sma_de.5._linregerrA',\n",
    "          'mfcc_sma_de.5._linregerrQ',\n",
    "          'mfcc_sma_de.5._stddev',\n",
    "          'mfcc_sma_de.7._linregerrA',\n",
    "          'mfcc_sma_de.7._linregerrQ',\n",
    "          'mfcc_sma_de.7._stddev',\n",
    "          'voiceProb_sma_de_quartile1',\n",
    "          'voiceProb_sma_de_iqr1.2',\n",
    "          'voiceProb_sma_de_iqr1.3']].to_numpy()\n",
    "\n",
    "y = data['iscase'].to_numpy()"
   ]
  },
  {
   "cell_type": "code",
   "execution_count": 5,
   "metadata": {},
   "outputs": [],
   "source": [
    "training_acc = np.zeros((num_subject,1))\n",
    "testing_acc  = np.zeros((num_subject,1))"
   ]
  },
  {
   "cell_type": "code",
   "execution_count": 6,
   "metadata": {},
   "outputs": [
    {
     "name": "stdout",
     "output_type": "stream",
     "text": [
      "NO.0: 2120014\n",
      "Training Acc:  0.751984126984127\n",
      "Testing Acc:  1.0\n"
     ]
    }
   ],
   "source": [
    "# num_subject\n",
    "for s in range(1):\n",
    "    print('NO.{}: {}'.format(s, subject_all[s]))\n",
    "    id_train = (subject_id != subject_all[s])\n",
    "    id_test  = (subject_id == subject_all[s])\n",
    "    \n",
    "    x_train = x[id_train,:]\n",
    "    y_train = y[id_train]\n",
    "    \n",
    "    x_test  = x[id_test,:]\n",
    "    y_test  = y[id_test]\n",
    "    \n",
    "    clf = SVC(kernel='linear')\n",
    "    clf.fit(x_train, y_train)\n",
    "    \n",
    "    label_predict = clf.predict(x_train)\n",
    "    \n",
    "    print('Training Acc: ', accuracy_score(label_predict, y_train))\n",
    "    training_acc[s] = accuracy_score(label_predict, y_train)\n",
    "    \n",
    "    label_predict = clf.predict(x_test)\n",
    "    print('Testing Acc: ', accuracy_score(label_predict, y_test))\n",
    "    testing_acc[s] = accuracy_score(label_predict, y_test)    \n",
    "    "
   ]
  },
  {
   "cell_type": "code",
   "execution_count": 7,
   "metadata": {},
   "outputs": [
    {
     "name": "stdout",
     "output_type": "stream",
     "text": [
      "Average Training Accuracy: 1.03%\n",
      "Average Testing Accuracy: 1.37%\n"
     ]
    }
   ],
   "source": [
    "print('Average Training Accuracy: {0:.2f}%'.format(100*np.mean(training_acc)))\n",
    "print('Average Testing Accuracy: {0:.2f}%'.format(100*np.mean(testing_acc)))"
   ]
  },
  {
   "cell_type": "code",
   "execution_count": 16,
   "metadata": {},
   "outputs": [],
   "source": [
    "n = np.shape(x_train)[0]\n",
    "d = np.shape(x_train)[1]"
   ]
  },
  {
   "cell_type": "code",
   "execution_count": 23,
   "metadata": {},
   "outputs": [
    {
     "data": {
      "text/plain": "0.751984126984127"
     },
     "execution_count": 23,
     "metadata": {},
     "output_type": "execute_result"
    }
   ],
   "source": [
    "import numpy.matlib\n",
    "\n",
    "x = np.random.rand(36)\n",
    "fw = np.matlib.repmat(x, n, 1)\n",
    "x_train_tf = x * fw\n",
    "\n",
    "clf.score(x_train, y_train)"
   ]
  },
  {
   "cell_type": "code",
   "execution_count": 20,
   "metadata": {},
   "outputs": [
    {
     "data": {
      "text/plain": "array([[ 0,  1,  4],\n       [ 9, 16, 25],\n       [36, 49, 64]])"
     },
     "execution_count": 20,
     "metadata": {},
     "output_type": "execute_result"
    }
   ],
   "source": [
    "clf."
   ]
  },
  {
   "cell_type": "code",
   "execution_count": 24,
   "metadata": {},
   "outputs": [],
   "source": [
    "from statsmodels.formula.api import ols"
   ]
  },
  {
   "cell_type": "code",
   "execution_count": null,
   "metadata": {},
   "outputs": [],
   "source": []
  }
 ],
 "metadata": {
  "kernelspec": {
   "display_name": "Python 3",
   "language": "python",
   "name": "python3"
  },
  "language_info": {
   "codemirror_mode": {
    "name": "ipython",
    "version": 3
   },
   "file_extension": ".py",
   "mimetype": "text/x-python",
   "name": "python",
   "nbconvert_exporter": "python",
   "pygments_lexer": "ipython3",
   "version": "3.7.12"
  }
 },
 "nbformat": 4,
 "nbformat_minor": 5
}